{
  "nbformat": 4,
  "nbformat_minor": 0,
  "metadata": {
    "colab": {
      "provenance": [],
      "authorship_tag": "ABX9TyMIzqI/bdcgwChGU7VmXpZv",
      "include_colab_link": true
    },
    "kernelspec": {
      "name": "python3",
      "display_name": "Python 3"
    },
    "language_info": {
      "name": "python"
    }
  },
  "cells": [
    {
      "cell_type": "markdown",
      "metadata": {
        "id": "view-in-github",
        "colab_type": "text"
      },
      "source": [
        "<a href=\"https://colab.research.google.com/github/thiagocscaminha/Python-Challenges-BeeCrowd/blob/main/01%20-%20Beginner%20-%20%231035%20-%20Selection%20Test%201.ipynb\" target=\"_parent\"><img src=\"https://colab.research.google.com/assets/colab-badge.svg\" alt=\"Open In Colab\"/></a>"
      ]
    },
    {
      "cell_type": "markdown",
      "source": [
        "# beecrowd | 1035 | Selection Test 1"
      ],
      "metadata": {
        "id": "BC1OqdFSm5XX"
      }
    },
    {
      "cell_type": "markdown",
      "source": [
        "Read 4 integer values A, B, C and D. Then if B is greater than C and D is greater than A and if the sum of C and D is greater than the sum of A and B and if C and D were positives values and if A is even, write the message “Valores aceitos” (Accepted values). Otherwise, write the message “Valores nao aceitos” (Values not accepted).\n",
        "\n",
        "**Input:** Four integer numbers A, B, C and D.\n",
        "\n",
        "**Output:** Show the corresponding message after the validation of the values​​.\n",
        "\n",
        "**Input Sample:** 5 6 7 8  \n",
        "**Output Sample:** Valores nao aceitos\n",
        "**Input Sample:**\t2 3 2 6\n",
        "**Output Sample:** Valores aceitos"
      ],
      "metadata": {
        "id": "pWooyjXpm-23"
      }
    },
    {
      "cell_type": "code",
      "execution_count": 52,
      "metadata": {
        "id": "OdYJya_amcP0",
        "colab": {
          "base_uri": "https://localhost:8080/"
        },
        "outputId": "72d3e1ca-bd2b-4a39-a920-14b63de0f088"
      },
      "outputs": [
        {
          "output_type": "stream",
          "name": "stdout",
          "text": [
            "2 3 2 6\n",
            "Valores aceitos\n"
          ]
        }
      ],
      "source": [
        "A, B, C, D = map(int,input().split())\n",
        "if (B > C) & (D > A) & ((C + D) > (A + B)) & (C > 0) & (D > 0) & (A%2 == 0):\n",
        "  print('Valores aceitos')\n",
        "else:\n",
        "  print('Valores nao aceitos')\n"
      ]
    }
  ]
}