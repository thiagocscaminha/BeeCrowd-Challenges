{
  "nbformat": 4,
  "nbformat_minor": 0,
  "metadata": {
    "colab": {
      "provenance": [],
      "authorship_tag": "ABX9TyOZ0U+BB0/c4oSKFJpnrsno",
      "include_colab_link": true
    },
    "kernelspec": {
      "name": "python3",
      "display_name": "Python 3"
    },
    "language_info": {
      "name": "python"
    }
  },
  "cells": [
    {
      "cell_type": "markdown",
      "metadata": {
        "id": "view-in-github",
        "colab_type": "text"
      },
      "source": [
        "<a href=\"https://colab.research.google.com/github/thiagocscaminha/Python-Challenges-BeeCrowd/blob/main/01%20-%20Beginner%20-%20%231042%20-%20Simple%20Sort.ipynb\" target=\"_parent\"><img src=\"https://colab.research.google.com/assets/colab-badge.svg\" alt=\"Open In Colab\"/></a>"
      ]
    },
    {
      "cell_type": "markdown",
      "source": [
        "# beecrowd | 1042 | Simple Sort"
      ],
      "metadata": {
        "id": "BC1OqdFSm5XX"
      }
    },
    {
      "cell_type": "markdown",
      "source": [
        "Read three integers and sort them in ascending order. After, print these values in ascending order, a blank line and then the values in the sequence as they were readed.\n",
        "\n",
        "**Input:** The input contains three integer numbers.\n",
        "\n",
        "**Output:** Present the output as requested above.\n",
        "\n",
        "**Input Sample:**\n",
        "7 21 -14  \n",
        "**Output Sample:**  \n",
        "-14  \n",
        "7  \n",
        "21\n",
        "\n",
        "7  \n",
        "21  \n",
        "-14\n",
        "\n",
        "**Input Sample:**\n",
        "-14 21 7  \n",
        "**Output Sample:**  \n",
        "-14  \n",
        "7  \n",
        "21  \n",
        "\n",
        "-14  \n",
        "21  \n",
        "7\n"
      ],
      "metadata": {
        "id": "pWooyjXpm-23"
      }
    },
    {
      "cell_type": "code",
      "execution_count": 3,
      "metadata": {
        "id": "OdYJya_amcP0",
        "colab": {
          "base_uri": "https://localhost:8080/"
        },
        "outputId": "7bc9213b-e652-423c-de9e-e70817b07baa"
      },
      "outputs": [
        {
          "output_type": "stream",
          "name": "stdout",
          "text": [
            " -14 21 7\n",
            "-14\n",
            "7\n",
            "21\n",
            "\n",
            "-14\n",
            "21\n",
            "7\n"
          ]
        }
      ],
      "source": [
        "original = list(map(int,input().split()))\n",
        "copia = sorted(original)\n",
        "\n",
        "for num in copia:\n",
        "  print(num)\n",
        "print('')\n",
        "for num in original:\n",
        "  print(num)"
      ]
    }
  ]
}