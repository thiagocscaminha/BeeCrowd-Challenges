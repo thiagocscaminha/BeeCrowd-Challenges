{
  "nbformat": 4,
  "nbformat_minor": 0,
  "metadata": {
    "colab": {
      "provenance": [],
      "authorship_tag": "ABX9TyORgxGAvtTqdmtS4YnSGxqL",
      "include_colab_link": true
    },
    "kernelspec": {
      "name": "python3",
      "display_name": "Python 3"
    },
    "language_info": {
      "name": "python"
    }
  },
  "cells": [
    {
      "cell_type": "markdown",
      "metadata": {
        "id": "view-in-github",
        "colab_type": "text"
      },
      "source": [
        "<a href=\"https://colab.research.google.com/github/thiagocscaminha/Python-Challenges-BeeCrowd/blob/main/01%20-%20Beginner%20-%20%231005%20-%20Average%201.ipynb\" target=\"_parent\"><img src=\"https://colab.research.google.com/assets/colab-badge.svg\" alt=\"Open In Colab\"/></a>"
      ]
    },
    {
      "cell_type": "markdown",
      "source": [
        "# beecrowd | 1005 | Average 1"
      ],
      "metadata": {
        "id": "BC1OqdFSm5XX"
      }
    },
    {
      "cell_type": "markdown",
      "source": [
        "Read two floating points' values of double precision A and B, corresponding to two student's grades. After this, calculate the student's average, considering that grade A has weight 3.5 and B has weight 7.5. Each grade can be from zero to ten, always with one digit after the decimal point. Don’t forget to print the end of line after the result, otherwise you will receive “Presentation Error”. Don’t forget the space before and after the equal sign.\n",
        "\n",
        "**Input**: The input file contains 2 floating points' values with one digit after the decimal point.\n",
        "\n",
        "**Output**: Print the message \"MEDIA\"(average in Portuguese) and the student's average according to the following example, with 5 digits after the decimal point and with a blank space before and after the equal signal.\n",
        "\n",
        "\n",
        "**Input Samples:** 5.0 7.1\n",
        "**Output Samples:** MEDIA = 6.43182\n",
        "\n",
        "**Input Samples:** 0.0 7.1\n",
        "**Output Samples:** MEDIA = 4.84091\n",
        "\n",
        "**Input Samples:** 0.0 10.0\n",
        "**Output Samples:** EDIA = 10.00000"
      ],
      "metadata": {
        "id": "pWooyjXpm-23"
      }
    },
    {
      "cell_type": "code",
      "execution_count": null,
      "metadata": {
        "id": "OdYJya_amcP0"
      },
      "outputs": [],
      "source": [
        "A = round(float(input()),1)\n",
        "B = round(float(input()),1)\n",
        "MEDIA = ((A * 3.5) + (B * 7.5)) / (3.5 + 7.5)\n",
        "print('MEDIA = {:.5f}'.format(MEDIA))"
      ]
    }
  ]
}