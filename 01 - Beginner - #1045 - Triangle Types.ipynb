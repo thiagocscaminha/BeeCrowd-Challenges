{
  "nbformat": 4,
  "nbformat_minor": 0,
  "metadata": {
    "colab": {
      "provenance": [],
      "authorship_tag": "ABX9TyMTUk1z+bAwNp557w4FjjLS",
      "include_colab_link": true
    },
    "kernelspec": {
      "name": "python3",
      "display_name": "Python 3"
    },
    "language_info": {
      "name": "python"
    }
  },
  "cells": [
    {
      "cell_type": "markdown",
      "metadata": {
        "id": "view-in-github",
        "colab_type": "text"
      },
      "source": [
        "<a href=\"https://colab.research.google.com/github/thiagocscaminha/Python-Challenges-BeeCrowd/blob/main/01%20-%20Beginner%20-%20%231045%20-%20Triangle%20Types.ipynb\" target=\"_parent\"><img src=\"https://colab.research.google.com/assets/colab-badge.svg\" alt=\"Open In Colab\"/></a>"
      ]
    },
    {
      "cell_type": "markdown",
      "source": [
        "# beecrowd | 1045 | Triangle Types #"
      ],
      "metadata": {
        "id": "lSc-pAvEFsUZ"
      }
    },
    {
      "cell_type": "markdown",
      "source": [
        "Read 3 double numbers (A, B and C) representing the sides of a triangle and arrange them in decreasing order, so that the side A is the biggest of the three sides. Next, determine the type of triangle that they can make, based on the following cases always writing an appropriate message:\n",
        "\n",
        "if A ≥ B + C, write the message: NAO FORMA TRIANGULO\n",
        "if A2 = B2 + C2, write the message: TRIANGULO RETANGULO\n",
        "if A2 > B2 + C2, write the message: TRIANGULO OBTUSANGULO\n",
        "if A2 < B2 + C2, write the message: TRIANGULO ACUTANGULO\n",
        "if the three sides are the same size, write the message: TRIANGULO EQUILATERO\n",
        "if only two sides are the same and the third one is different, write the message: TRIANGULO ISOSCELES\n",
        "\n",
        "**Input:** The input contains three double numbers, A (0 < A) , B (0 < B) and C (0 < C).\n",
        "**Output:** Print all the classifications of the triangle presented in the input.\n",
        "\n",
        "**Input Samples:**\n",
        "7.0 5.0 7.0  \n",
        "**Output Samples:**  \n",
        "TRIANGULO ACUTANGULO  \n",
        "TRIANGULO ISOSCELES\n",
        "\n",
        "**Input Samples:**\n",
        "6.0 6.0 10.0  \n",
        "**Output Samples:**  \n",
        "TRIANGULO OBTUSANGULO  \n",
        "TRIANGULO ISOSCELES\n",
        "\n",
        "**Input Samples:**\n",
        "6.0 6.0 6.0  \n",
        "**Output Samples:**  \n",
        "TRIANGULO ACUTANGULO  \n",
        "TRIANGULO EQUILATERO\n",
        "\n",
        "**Input Samples:**\n",
        "5.0 7.0 2.0  \n",
        "**Output Samples:**  \n",
        "NAO FORMA TRIANGULO\n",
        "\n",
        "**Input Samples:**\n",
        "6.0 8.0 10.0  \n",
        "**Output Samples:**  \n",
        "TRIANGULO RETANGULO\n",
        "\n",
        "\n",
        "\n",
        "\n",
        "\n",
        "\n",
        "\n",
        "OBS1: Classificação dos triângulos\n",
        "Em relação ao lado: equilátero, isósceles ou escaleno\n",
        "Em relação aos angulos: acutângulo, retângulo ou obtusângulo"
      ],
      "metadata": {
        "id": "t8giHzR4FvUI"
      }
    },
    {
      "cell_type": "code",
      "execution_count": 15,
      "metadata": {
        "colab": {
          "base_uri": "https://localhost:8080/"
        },
        "id": "JwJT8iNvFmz9",
        "outputId": "32995831-50bd-4a28-8479-1ca0f496222c"
      },
      "outputs": [
        {
          "output_type": "stream",
          "name": "stdout",
          "text": [
            "6.0 8.0 10.0\n",
            "TRIANGULO RETANGULO\n"
          ]
        }
      ],
      "source": [
        "sides = list(map(float, input().split()))\n",
        "# Sort Descending\n",
        "sides.sort(reverse=True)\n",
        "# Attrib\n",
        "A = sides[0]\n",
        "B = sides[1]\n",
        "C = sides[2]\n",
        "\n",
        "# Identificar se não é Triângulo: A ≥ B + C\n",
        "if (A >= (B + C)):\n",
        "  print('NAO FORMA TRIANGULO')\n",
        "\n",
        "# Classificar Ângulos:\n",
        "# RETANGULO: A2 = B2 + C2\n",
        "elif (A**2 == (B**2 + C**2)):\n",
        "  print('TRIANGULO RETANGULO')\n",
        "# OBTUSANGULO: A2 > B2 + C2\n",
        "elif (A**2 > (B**2 + C**2)):\n",
        "  print('TRIANGULO OBTUSANGULO')\n",
        "# ACUTANGULO: A2 < B2 + C2\n",
        "elif (A**2 < (B**2 + C**2)):\n",
        "  print('TRIANGULO ACUTANGULO')\n",
        "\n",
        "# Classificar Lados:\n",
        "# EQUILATERO: if the three sides are the same size\n",
        "if (A == B == C):\n",
        "  print('TRIANGULO EQUILATERO')\n",
        "# ISOSCELES: if only two sides are the same and the third one is different\n",
        "elif ((A == B != C) or (A == C != B) or (B == C != A)):\n",
        "  print('TRIANGULO ISOSCELES')\n",
        "\n"
      ]
    },
    {
      "cell_type": "markdown",
      "source": [],
      "metadata": {
        "id": "k5W-7K18Wkmm"
      }
    },
    {
      "cell_type": "code",
      "source": [
        "# Algoritmo otimizado com Unpacking e função pow()\n",
        "sides = list(map(float, input().split()))\n",
        "# Sort, unpack and attrib\n",
        "A, B, C = sorted(sides,reverse=True)[:3]\n",
        "\n",
        "# Identificar se não é Triângulo: A ≥ B + C\n",
        "if (A >= (B + C)):\n",
        "  print('NAO FORMA TRIANGULO')\n",
        "# Classificar Ângulos:\n",
        "# RETANGULO: A2 = B2 + C2\n",
        "elif (pow(A,2) == pow(B,2) + pow(C,2)):\n",
        "  print('TRIANGULO RETANGULO')\n",
        "# OBTUSANGULO: A2 > B2 + C2\n",
        "elif (pow(A,2) > (pow(B,2) + pow(C,2))):\n",
        "  print('TRIANGULO OBTUSANGULO')\n",
        "# ACUTANGULO: A2 < B2 + C2\n",
        "elif (pow(A,2) < (pow(B,2) + pow(C,2))):\n",
        "  print('TRIANGULO ACUTANGULO')\n",
        "\n",
        "# Classificar Lados:\n",
        "# EQUILATERO: if the three sides are the same size\n",
        "if (A == B == C):\n",
        "  print('TRIANGULO EQUILATERO')\n",
        "# ISOSCELES: if only two sides are the same and the third one is different\n",
        "elif ((A == B != C) or (A == C != B) or (B == C != A)):\n",
        "  print('TRIANGULO ISOSCELES')"
      ],
      "metadata": {
        "colab": {
          "base_uri": "https://localhost:8080/"
        },
        "id": "lIEn8DC0WkKw",
        "outputId": "092eb462-da44-4ebe-e756-6bcc3fac37ee"
      },
      "execution_count": 1,
      "outputs": [
        {
          "output_type": "stream",
          "name": "stdout",
          "text": [
            "7.0 5.0 7.0\n",
            "TRIANGULO ACUTANGULO\n"
          ]
        }
      ]
    },
    {
      "cell_type": "code",
      "source": [
        "# Algoritmo otimizado com funções, Unpacking e função pow()\n",
        "\n",
        "def func_verifica(A, B, C)\n",
        "  if (A >= (B + C)):\n",
        "    print('NAO FORMA TRIANGULO')\n",
        "\n",
        "def func_class_angulos(A, B, C)\n",
        "# RETANGULO: A2 = B2 + C2\n",
        "  if (pow(A,2) == pow(B,2) + pow(C,2)):\n",
        "    print('TRIANGULO RETANGULO')\n",
        "# OBTUSANGULO: A2 > B2 + C2\n",
        "  elif (pow(A,2) > (pow(B,2) + pow(C,2))):\n",
        "    print('TRIANGULO OBTUSANGULO')\n",
        "# ACUTANGULO: A2 < B2 + C2\n",
        "  elif (pow(A,2) < (pow(B,2) + pow(C,2))):\n",
        "    print('TRIANGULO ACUTANGULO')\n",
        "\n",
        "def func_class_lados(A, B, C)\n",
        "# EQUILATERO: if the three sides are the same size\n",
        "  if (A == B == C):\n",
        "    print('TRIANGULO EQUILATERO')\n",
        "# ISOSCELES: if only two sides are the same and the third one is different\n",
        "  elif ((A == B != C) or (A == C != B) or (B == C != A)):\n",
        "    print('TRIANGULO ISOSCELES')\n",
        "\n",
        "# Start\n",
        "# Get Input\n",
        "sides = list(map(float, input().split()))\n",
        "# Sort, unpack and attrib\n",
        "A, B, C = sorted(sides,reverse=True)[:3]\n",
        "\n",
        "# Identificar se não é Triângulo: A ≥ B + C\n",
        "func_verifica(A, B, C)\n",
        "# Classificar Ângulos:\n",
        "func_class_angulos(A, B, C)\n",
        "# Classificar Lados:\n",
        "func_class_lados(A, B, C)\n",
        "\n"
      ],
      "metadata": {
        "id": "_3xkIyr4j5kK"
      },
      "execution_count": null,
      "outputs": []
    }
  ]
}