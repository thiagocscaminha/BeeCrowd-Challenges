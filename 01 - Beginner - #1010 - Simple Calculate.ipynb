{
  "nbformat": 4,
  "nbformat_minor": 0,
  "metadata": {
    "colab": {
      "provenance": [],
      "authorship_tag": "ABX9TyPnKQEk+V46A4CJE8ycZPtz",
      "include_colab_link": true
    },
    "kernelspec": {
      "name": "python3",
      "display_name": "Python 3"
    },
    "language_info": {
      "name": "python"
    }
  },
  "cells": [
    {
      "cell_type": "markdown",
      "metadata": {
        "id": "view-in-github",
        "colab_type": "text"
      },
      "source": [
        "<a href=\"https://colab.research.google.com/github/thiagocscaminha/BeeCrowd-Challenges/blob/main/01%20-%20Beginner%20-%20%231010%20-%20Simple%20Calculate.ipynb\" target=\"_parent\"><img src=\"https://colab.research.google.com/assets/colab-badge.svg\" alt=\"Open In Colab\"/></a>"
      ]
    },
    {
      "cell_type": "markdown",
      "source": [
        "# beecrowd | 1010 | Simple Calculate"
      ],
      "metadata": {
        "id": "BC1OqdFSm5XX"
      }
    },
    {
      "cell_type": "markdown",
      "source": [
        "In this problem, the task is to read a code of a product 1, the number of units of product 1, the price for one unit of product 1, the code of a product 2, the number of units of product 2 and the price for one unit of product 2. After this, calculate and show the amount to be paid.\n",
        "\n",
        "**Input**: The input file contains two lines of data. In each line there will be 3 values: two integers and a floating value with 2 digits after the decimal point.\n",
        "\n",
        "**Output**: The output file must be a message like the following example where \"Valor a pagar\" means Value to Pay. Remember the space after \":\" and after \"R$\" symbol. The value must be presented with 2 digits after the point."
      ],
      "metadata": {
        "id": "pWooyjXpm-23"
      }
    },
    {
      "cell_type": "code",
      "execution_count": 2,
      "metadata": {
        "id": "OdYJya_amcP0",
        "colab": {
          "base_uri": "https://localhost:8080/"
        },
        "outputId": "5f7bef42-d702-48ce-995c-fc231d582012"
      },
      "outputs": [
        {
          "output_type": "stream",
          "name": "stdout",
          "text": [
            "12.1 1 5.30\n",
            "16.9 2 5.10\n",
            "VALOR A PAGAR: R$ 15.50\n"
          ]
        }
      ],
      "source": [
        "code_1, num_1, price_1 = map(float,input().split())\n",
        "code_1 = int(code_1)\n",
        "code_2, num_2, price_2 = map(float,input().split())\n",
        "code_2 = int(code_2)\n",
        "total = (int(num_1) * float(price_1)) + (int(num_2) * float(price_2))\n",
        "print('VALOR A PAGAR: R$ {:.2f}'.format(total))"
      ]
    }
  ]
}