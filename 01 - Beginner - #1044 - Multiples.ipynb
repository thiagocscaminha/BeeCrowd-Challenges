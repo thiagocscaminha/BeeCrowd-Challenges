{
  "nbformat": 4,
  "nbformat_minor": 0,
  "metadata": {
    "colab": {
      "provenance": [],
      "authorship_tag": "ABX9TyP/sZYxkIRro7ndOHBrimBV",
      "include_colab_link": true
    },
    "kernelspec": {
      "name": "python3",
      "display_name": "Python 3"
    },
    "language_info": {
      "name": "python"
    }
  },
  "cells": [
    {
      "cell_type": "markdown",
      "metadata": {
        "id": "view-in-github",
        "colab_type": "text"
      },
      "source": [
        "<a href=\"https://colab.research.google.com/github/thiagocscaminha/Python-Challenges-BeeCrowd/blob/main/01%20-%20Beginner%20-%20%231044%20-%20Multiples.ipynb\" target=\"_parent\"><img src=\"https://colab.research.google.com/assets/colab-badge.svg\" alt=\"Open In Colab\"/></a>"
      ]
    },
    {
      "cell_type": "markdown",
      "source": [
        "# beecrowd | 1044 | Multiples #"
      ],
      "metadata": {
        "id": "qGG3eo2YTczH"
      }
    },
    {
      "cell_type": "markdown",
      "source": [
        "Read two integer values (A and B). After, the program should print the message \"Sao Multiplos\" (are multiples) or \"Nao sao Multiplos\" (aren’t multiples), corresponding to the read values.\n",
        "\n",
        "**Input:** The input has two integer numbers.\n",
        "\n",
        "**Output:** Print the relative message to the input as stated above.\n",
        "\n",
        "**Input Sample:**\n",
        "6 24  \n",
        "**Output Sample:** Sao Multiplos\n",
        "\n",
        "**Input Sample:**\n",
        "6 25  \n",
        "**Output Sample:** Nao sao Multiplos"
      ],
      "metadata": {
        "id": "41eK5O2ZTggK"
      }
    },
    {
      "cell_type": "markdown",
      "source": [
        "OBS1:"
      ],
      "metadata": {
        "id": "m48jw6cxfsLi"
      }
    },
    {
      "cell_type": "code",
      "source": [
        "# Algoritmo Simples\n",
        "\n",
        "A, B = map(float,input().split())\n",
        "\n",
        "if (B % A == 0):\n",
        "  print('Sao Multiplos')\n",
        "else:\n",
        "  print('Nao sao Multiplos')\n",
        "\n",
        "# Funciona, porém se alterar a ordem dos números, dá erro, pois precisa ser o maior dividido pelo menor."
      ],
      "metadata": {
        "colab": {
          "base_uri": "https://localhost:8080/"
        },
        "id": "H4I6LhrUkZd1",
        "outputId": "44d96573-a67f-4a47-ec0b-40d1204862d9"
      },
      "execution_count": 36,
      "outputs": [
        {
          "output_type": "stream",
          "name": "stdout",
          "text": [
            "24 6\n",
            "Nao sao Multiplos\n"
          ]
        }
      ]
    },
    {
      "cell_type": "code",
      "execution_count": 37,
      "metadata": {
        "colab": {
          "base_uri": "https://localhost:8080/"
        },
        "id": "DshzJf6dTS_U",
        "outputId": "25475a3b-a6bf-4f1d-88c1-d50ff59caf07"
      },
      "outputs": [
        {
          "output_type": "stream",
          "name": "stdout",
          "text": [
            "24 6\n",
            "Sao Multiplos\n"
          ]
        }
      ],
      "source": [
        "# Algoritmo Melhorado, não importando a ordem dos números.\n",
        "# Identifica o maior e verifica o módulo.\n",
        "\n",
        "numeros = list(map(float,input().split()))\n",
        "numeros.sort()\n",
        "A = numeros[0]\n",
        "B = numeros[1]\n",
        "\n",
        "if (B % A == 0):\n",
        "  print('Sao Multiplos')\n",
        "else:\n",
        "  print('Nao sao Multiplos')\n"
      ]
    },
    {
      "cell_type": "code",
      "execution_count": 29,
      "metadata": {
        "colab": {
          "base_uri": "https://localhost:8080/"
        },
        "outputId": "062a26fc-e028-4ca7-8bd1-80c499e83690",
        "id": "xVjPGd7PfMwV"
      },
      "outputs": [
        {
          "output_type": "stream",
          "name": "stdout",
          "text": [
            "24 6\n",
            "Sao Multiplos\n"
          ]
        }
      ],
      "source": [
        "# Algoritmo otimizado com Unpacking\n",
        "\n",
        "numeros = list(map(float,input().split()))\n",
        "A, B = sorted(numeros)[:2]\n",
        "\n",
        "if (B % A == 0):\n",
        "  print('Sao Multiplos')\n",
        "else:\n",
        "  print('Nao sao Multiplos')"
      ]
    },
    {
      "cell_type": "code",
      "source": [
        "# Algoritmo otimizado com unpacking e função\n",
        "\n",
        "def func_multiplos(numeros):\n",
        "  A, B = sorted(numeros)[:2]\n",
        "  if (B % A == 0):\n",
        "    print('Sao Multiplos')\n",
        "  else:\n",
        "    print('Nao sao Multiplos')\n",
        "\n",
        "numeros = list(map(float,input().split()))\n",
        "func_multiplos(numeros)\n",
        "\n"
      ],
      "metadata": {
        "colab": {
          "base_uri": "https://localhost:8080/"
        },
        "id": "IzdyHDZ1mv3m",
        "outputId": "c492d3d7-160e-460b-bc1f-5fcf1937fbbc"
      },
      "execution_count": 33,
      "outputs": [
        {
          "output_type": "stream",
          "name": "stdout",
          "text": [
            "24 6\n",
            "Sao Multiplos\n"
          ]
        }
      ]
    }
  ]
}