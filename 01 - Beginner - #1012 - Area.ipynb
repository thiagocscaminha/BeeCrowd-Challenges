{
  "nbformat": 4,
  "nbformat_minor": 0,
  "metadata": {
    "colab": {
      "provenance": [],
      "authorship_tag": "ABX9TyMKUw7gLmK5Hu+3eEba60iS",
      "include_colab_link": true
    },
    "kernelspec": {
      "name": "python3",
      "display_name": "Python 3"
    },
    "language_info": {
      "name": "python"
    }
  },
  "cells": [
    {
      "cell_type": "markdown",
      "metadata": {
        "id": "view-in-github",
        "colab_type": "text"
      },
      "source": [
        "<a href=\"https://colab.research.google.com/github/thiagocscaminha/Python-Challenges-BeeCrowd/blob/main/01%20-%20Beginner%20-%20%231012%20-%20Area.ipynb\" target=\"_parent\"><img src=\"https://colab.research.google.com/assets/colab-badge.svg\" alt=\"Open In Colab\"/></a>"
      ]
    },
    {
      "cell_type": "markdown",
      "source": [
        "# beecrowd | 1012 | Area"
      ],
      "metadata": {
        "id": "BC1OqdFSm5XX"
      }
    },
    {
      "cell_type": "markdown",
      "source": [
        "Make a program that reads three floating point values: A, B and C. Then, calculate and show:\n",
        "a) the area of the rectangled triangle that has base A and height C.\n",
        "b) the area of the radius's circle C. (pi = 3.14159)\n",
        "c) the area of the trapezium which has A and B by base, and C by height.\n",
        "d) the area of ​​the square that has side B.\n",
        "e) the area of the rectangle that has sides A and B.\n",
        "\n",
        "**Input**: The input file contains three double values with one digit after the decimal point.\n",
        "\n",
        "**Output**: The output file must contain 5 lines of data. Each line corresponds to one of the areas described above, always with a corresponding message (in Portuguese) and one space between the two points and the value. The value calculated must be presented with 3 digits after the decimal point.\n",
        "\n",
        "\n",
        "**Input Samples:** 3.0 4.0 5.2\n",
        "\n",
        "**Output Samples:**  \n",
        "TRIANGULO: 7.800\n",
        "CIRCULO: 84.949\n",
        "TRAPEZIO: 18.200\n",
        "QUADRADO: 16.000\n",
        "RETANGULO: 12.000\n",
        "\n",
        "**Input Samples:** 12.7 10.4 15.2\n",
        "\n",
        "**Output Samples:**  \n",
        "TRIANGULO: 96.520\n",
        "CIRCULO: 725.833\n",
        "TRAPEZIO: 175.560\n",
        "QUADRADO: 108.160\n",
        "RETANGULO: 132.080"
      ],
      "metadata": {
        "id": "pWooyjXpm-23"
      }
    },
    {
      "cell_type": "code",
      "execution_count": 19,
      "metadata": {
        "id": "OdYJya_amcP0",
        "colab": {
          "base_uri": "https://localhost:8080/"
        },
        "outputId": "2a80c94e-d476-4563-ecdb-9fb7e4f98b39"
      },
      "outputs": [
        {
          "output_type": "stream",
          "name": "stdout",
          "text": [
            "12.7 10.4 15.2\n",
            "TRIANGULO: 96.520\n",
            "CIRCULO: 725.833\n",
            "TRAPEZIO: 175.560\n",
            "QUADRADO: 108.160\n",
            "RETANGULO: 132.080\n"
          ]
        }
      ],
      "source": [
        "A, B, C = map(float,input().split())\n",
        "area_tri = (A * C) / 2\n",
        "area_cir = 3.14159 * pow(C,2)\n",
        "area_tra = (A + B) * C / 2\n",
        "area_qua = pow(B,2)\n",
        "area_ret = A * B\n",
        "\n",
        "print('TRIANGULO: {:.3f}'.format(area_tri))\n",
        "print('CIRCULO: {:.3f}'.format(area_cir))\n",
        "print('TRAPEZIO: {:.3f}'.format(area_tra))\n",
        "print('QUADRADO: {:.3f}'.format(area_qua))\n",
        "print('RETANGULO: {:.3f}'.format(area_ret))"
      ]
    }
  ]
}