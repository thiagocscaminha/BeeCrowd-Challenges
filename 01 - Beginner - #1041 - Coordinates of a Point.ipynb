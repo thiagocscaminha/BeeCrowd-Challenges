{
  "nbformat": 4,
  "nbformat_minor": 0,
  "metadata": {
    "colab": {
      "provenance": [],
      "authorship_tag": "ABX9TyMlTgqGejbno8akPDnmiT4D",
      "include_colab_link": true
    },
    "kernelspec": {
      "name": "python3",
      "display_name": "Python 3"
    },
    "language_info": {
      "name": "python"
    }
  },
  "cells": [
    {
      "cell_type": "markdown",
      "metadata": {
        "id": "view-in-github",
        "colab_type": "text"
      },
      "source": [
        "<a href=\"https://colab.research.google.com/github/thiagocscaminha/Python-Challenges-BeeCrowd/blob/main/01%20-%20Beginner%20-%20%231041%20-%20Coordinates%20of%20a%20Point.ipynb\" target=\"_parent\"><img src=\"https://colab.research.google.com/assets/colab-badge.svg\" alt=\"Open In Colab\"/></a>"
      ]
    },
    {
      "cell_type": "markdown",
      "source": [
        "# beecrowd | 1041 | Coordinates of a Point"
      ],
      "metadata": {
        "id": "BC1OqdFSm5XX"
      }
    },
    {
      "cell_type": "markdown",
      "source": [
        "Write an algorithm that reads two floating values (x and y), which should represent the coordinates of a point in a plane. Next, determine which quadrant the point belongs, or if you are at one of the Cartesian axes or the origin (x = y = 0).\n",
        "\n",
        "![](https://resources.beecrowd.com/gallery/images/problems/UOJ_1041.png)\n",
        "\n",
        "If the point is at the origin, write the message \"Origem\".\n",
        "\n",
        "If the point is at X axis write \"Eixo X\", else if the point is at Y axis write \"Eixo Y\".\n",
        "\n",
        "**Input:** The input contains the coordinates of a point.\n",
        "\n",
        "**Output:** The output should display the quadrant in which the point is.\n",
        "\n",
        "**Input Sample:**  \n",
        "4.5 -2.2  \n",
        "**Output Sample:** Q4\n",
        "\n",
        "**Input Sample:**  \n",
        "0.1 0.1  \n",
        "**Output Sample:** Q1\n",
        "\n",
        "**Input Sample:**  \n",
        "0.0 0.0  \n",
        "**Output Sample:** Origem\n"
      ],
      "metadata": {
        "id": "pWooyjXpm-23"
      }
    },
    {
      "cell_type": "code",
      "execution_count": 81,
      "metadata": {
        "id": "OdYJya_amcP0",
        "colab": {
          "base_uri": "https://localhost:8080/"
        },
        "outputId": "4c1bc204-cf08-430b-f36d-76ad5025021d"
      },
      "outputs": [
        {
          "output_type": "stream",
          "name": "stdout",
          "text": [
            "0.0 0.0\n",
            "Origem\n"
          ]
        }
      ],
      "source": [
        "X, Y = map(float,input().split())\n",
        "if (X == Y == 0):\n",
        "  print('Origem')\n",
        "elif (X == 0):\n",
        "  print('Eixo Y')\n",
        "elif (Y == 0):\n",
        "  print('Eixo X')\n",
        "elif (X > 0) and (Y > 0):\n",
        "  print('Q1')\n",
        "elif (X < 0) and (Y > 0):\n",
        "  print('Q2')\n",
        "elif (X < 0) and (Y < 0):\n",
        "  print('Q3')\n",
        "elif (X > 0) and (Y < 0):\n",
        "  print('Q4')"
      ]
    }
  ]
}