{
  "nbformat": 4,
  "nbformat_minor": 0,
  "metadata": {
    "colab": {
      "provenance": [],
      "authorship_tag": "ABX9TyPAwH0LnguZu0BADLnkmJZj",
      "include_colab_link": true
    },
    "kernelspec": {
      "name": "python3",
      "display_name": "Python 3"
    },
    "language_info": {
      "name": "python"
    }
  },
  "cells": [
    {
      "cell_type": "markdown",
      "metadata": {
        "id": "view-in-github",
        "colab_type": "text"
      },
      "source": [
        "<a href=\"https://colab.research.google.com/github/thiagocscaminha/BeeCrowd-Challenges/blob/main/01%20-%20Beginner%20-%20%231000%20-%20Hello%20World.ipynb\" target=\"_parent\"><img src=\"https://colab.research.google.com/assets/colab-badge.svg\" alt=\"Open In Colab\"/></a>"
      ]
    },
    {
      "cell_type": "markdown",
      "source": [
        "beecrowd | 1000\n",
        "Hello World!"
      ],
      "metadata": {
        "id": "rexhA1YPK0Gv"
      }
    },
    {
      "cell_type": "markdown",
      "source": [
        "In this first problem all you have to do is print this message on the screen.\n",
        "\n",
        "Input:\n",
        "This problem has no input.\n",
        "\n",
        "Output:\n",
        "You must print the message Hello World! and then the endline as shown below."
      ],
      "metadata": {
        "id": "m9HFnIU8K1UH"
      }
    },
    {
      "cell_type": "code",
      "execution_count": null,
      "metadata": {
        "colab": {
          "base_uri": "https://localhost:8080/"
        },
        "id": "z-Vx5KLz_8zY",
        "outputId": "9b15d40c-3fb1-4a1b-d581-8857cfcb726c"
      },
      "outputs": [
        {
          "output_type": "stream",
          "name": "stdout",
          "text": [
            "Hello World\n"
          ]
        }
      ],
      "source": [
        "print('Hello World')"
      ]
    }
  ]
}