{
  "nbformat": 4,
  "nbformat_minor": 0,
  "metadata": {
    "colab": {
      "provenance": [],
      "authorship_tag": "ABX9TyNmqBYYGArtCPYjcGpBLwjY",
      "include_colab_link": true
    },
    "kernelspec": {
      "name": "python3",
      "display_name": "Python 3"
    },
    "language_info": {
      "name": "python"
    }
  },
  "cells": [
    {
      "cell_type": "markdown",
      "metadata": {
        "id": "view-in-github",
        "colab_type": "text"
      },
      "source": [
        "<a href=\"https://colab.research.google.com/github/thiagocscaminha/Python-Challenges-BeeCrowd/blob/main/01%20-%20Beginner%20-%20%231013%20-%20The%20Greatest.ipynb\" target=\"_parent\"><img src=\"https://colab.research.google.com/assets/colab-badge.svg\" alt=\"Open In Colab\"/></a>"
      ]
    },
    {
      "cell_type": "markdown",
      "source": [
        "# beecrowd | 1013 | The Greatest"
      ],
      "metadata": {
        "id": "BC1OqdFSm5XX"
      }
    },
    {
      "cell_type": "markdown",
      "source": [
        "Make a program that reads 3 integer values and present the greatest one followed by the message \"eh o maior\". Use the following formula:\n",
        "\n",
        "MaiorAB = (a+b+abs(a-b))/2\n",
        "\n",
        "**Input**: The input file contains 3 integer values.\n",
        "\n",
        "**Output**: Print the greatest of these three values followed by a space and the message “eh o maior”.\n",
        "\n",
        "\n",
        "**Input Samples**: 7 14 106  \n",
        "**Output Samples**: 106 eh o maior  \n",
        "**Input Samples**: 217 14 6  \n",
        "**Output Samples**: 217 eh o maior"
      ],
      "metadata": {
        "id": "pWooyjXpm-23"
      }
    },
    {
      "cell_type": "code",
      "execution_count": 18,
      "metadata": {
        "id": "OdYJya_amcP0",
        "colab": {
          "base_uri": "https://localhost:8080/"
        },
        "outputId": "902e70c4-4413-4483-d9dc-2c554c47c96b"
      },
      "outputs": [
        {
          "output_type": "stream",
          "name": "stdout",
          "text": [
            "7 14 106\n",
            "106 eh o maior\n"
          ]
        }
      ],
      "source": [
        "a, b, c = map(int,input().split())\n",
        "maiorAB = (a + b + abs(a-b)) / 2\n",
        "resultado = int((maiorAB + c + abs(maiorAB-c)) / 2)\n",
        "print(resultado, 'eh o maior')"
      ]
    }
  ]
}