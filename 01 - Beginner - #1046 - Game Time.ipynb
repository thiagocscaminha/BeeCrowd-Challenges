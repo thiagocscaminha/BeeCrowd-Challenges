{
  "nbformat": 4,
  "nbformat_minor": 0,
  "metadata": {
    "colab": {
      "provenance": [],
      "authorship_tag": "ABX9TyNr/Cr1E86ybG0dbfH4+CRC",
      "include_colab_link": true
    },
    "kernelspec": {
      "name": "python3",
      "display_name": "Python 3"
    },
    "language_info": {
      "name": "python"
    }
  },
  "cells": [
    {
      "cell_type": "markdown",
      "metadata": {
        "id": "view-in-github",
        "colab_type": "text"
      },
      "source": [
        "<a href=\"https://colab.research.google.com/github/thiagocscaminha/Python-Challenges-BeeCrowd/blob/main/01%20-%20Beginner%20-%20%231046%20-%20Game%20Time.ipynb\" target=\"_parent\"><img src=\"https://colab.research.google.com/assets/colab-badge.svg\" alt=\"Open In Colab\"/></a>"
      ]
    },
    {
      "cell_type": "markdown",
      "source": [
        "# beecrowd | 1046 | Game Time"
      ],
      "metadata": {
        "id": "BC1OqdFSm5XX"
      }
    },
    {
      "cell_type": "markdown",
      "source": [
        "Read the start time and end time of a game, in hours. Then calculate the duration of the game, knowing that the game can begin in a day and finish in another day, with a maximum duration of 24 hours. The message must be printed in portuguese “O JOGO DUROU X HORA(S)” that means “THE GAME LASTED X HOUR(S)”\n",
        "\n",
        "**Input:** Two integer numbers representing the start and end time of a game.\n",
        "\n",
        "**Output:** Print the duration of the game as in the sample output.\n",
        "\n",
        "**Input Sample:**\n",
        "16 2  \n",
        "**Output Sample:** O JOGO DUROU 10 HORA(S)\n",
        "\n",
        "**Input Sample:**\n",
        "0 0  \n",
        "**Output Sample:** O JOGO DUROU 24 HORA(S)\n",
        "\n",
        "**Input Sample:**\n",
        "2 16  \n",
        "**Output Sample:** O JOGO DUROU 14 HORA(S)\n",
        "\n"
      ],
      "metadata": {
        "id": "pWooyjXpm-23"
      }
    },
    {
      "cell_type": "code",
      "execution_count": 19,
      "metadata": {
        "id": "OdYJya_amcP0",
        "colab": {
          "base_uri": "https://localhost:8080/"
        },
        "outputId": "856e6593-7ae8-468c-8624-1df1b3a902e5"
      },
      "outputs": [
        {
          "output_type": "stream",
          "name": "stdout",
          "text": [
            "2 16\n",
            "O JOGO DUROU 14 HORAS(S)\n"
          ]
        }
      ],
      "source": [
        "# Simple\n",
        "\n",
        "StartTime, Endtime = map(int, input().split())\n",
        "\n",
        "if (StartTime >= Endtime):\n",
        "  Endtime = Endtime + 24\n",
        "\n",
        "duracao = Endtime - StartTime\n",
        "\n",
        "print('O JOGO DUROU {} HORA(S)'.format(duracao))"
      ]
    },
    {
      "cell_type": "code",
      "source": [
        "# Usando Operador Incremental e F-String\n",
        "\n",
        "StartTime, Endtime = map(int, input().split())\n",
        "\n",
        "if (StartTime >= Endtime):\n",
        "  Endtime += 24\n",
        "\n",
        "duracao = Endtime - StartTime\n",
        "\n",
        "print(f'O JOGO DUROU {duracao} HORA(S)')"
      ],
      "metadata": {
        "id": "beBTXU1uCzmP"
      },
      "execution_count": null,
      "outputs": []
    }
  ]
}