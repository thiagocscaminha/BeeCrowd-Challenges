{
  "nbformat": 4,
  "nbformat_minor": 0,
  "metadata": {
    "colab": {
      "provenance": [],
      "authorship_tag": "ABX9TyOuhyDq47sS1svVJBUjMDOl",
      "include_colab_link": true
    },
    "kernelspec": {
      "name": "python3",
      "display_name": "Python 3"
    },
    "language_info": {
      "name": "python"
    }
  },
  "cells": [
    {
      "cell_type": "markdown",
      "metadata": {
        "id": "view-in-github",
        "colab_type": "text"
      },
      "source": [
        "<a href=\"https://colab.research.google.com/github/thiagocscaminha/Python-Challenges-BeeCrowd/blob/main/01%20-%20Beginner%20-%20%231048%20-%20Salary%20Increase.ipynb\" target=\"_parent\"><img src=\"https://colab.research.google.com/assets/colab-badge.svg\" alt=\"Open In Colab\"/></a>"
      ]
    },
    {
      "cell_type": "markdown",
      "source": [
        "# beecrowd | 1048 | Salary Increase"
      ],
      "metadata": {
        "id": "qGG3eo2YTczH"
      }
    },
    {
      "cell_type": "markdown",
      "source": [
        "The company ABC decided to give a salary increase to its employees, according to the following table:\n",
        "\n",
        "| Salary |\tReadjustment Rate |\n",
        "|-|-|\n",
        "|0 - 400.00 | 15% |\n",
        "|400.01 - 800.00 | 12% |\n",
        "|800.01 - 1200.00 | 10% |\n",
        "|1200.01 - 2000.00 | 7% |\n",
        "| Above 2000.00 | 4% |\n",
        "\n",
        "Read the employee's salary, calculate and print the new employee's salary, as well the money earned and the increase percentual obtained by the employee, with corresponding messages in Portuguese, as the below example.\n",
        "\n",
        "**Input:** The input contains only a floating-point number, with 2 digits after the decimal point.\n",
        "\n",
        "**Output:** Print 3 messages followed by the corresponding numbers (see example) informing the new salary, the among of money earned (both must be shown with 2 decimal places) and the percentual obtained by the employee. Note:\n",
        "Novo salario:  means \"New Salary\"\n",
        "Reajuste ganho: means \"Money earned\"\n",
        "Em percentual: means \"In percentage\"\n",
        "\n",
        "**Input Sample:**\t400.00\n",
        "**Output Sample:**  \n",
        "Novo salario: 460.00  \n",
        "Reajuste ganho: 60.00  \n",
        "Em percentual: 15 %\n",
        "\n",
        "**Input Sample:**\t800.01\n",
        "**Output Sample:**  \n",
        "Novo salario: 880.01  \n",
        "Reajuste ganho: 80.00  \n",
        "Em percentual: 10 %\n",
        "\n",
        "**Input Sample:**\t2000.00\n",
        "**Output Sample:**  \n",
        "Novo salario: 2140.00  \n",
        "Reajuste ganho: 140.00  \n",
        "Em percentual: 7 %"
      ],
      "metadata": {
        "id": "41eK5O2ZTggK"
      }
    },
    {
      "cell_type": "markdown",
      "source": [
        "OBS1:"
      ],
      "metadata": {
        "id": "m48jw6cxfsLi"
      }
    },
    {
      "cell_type": "code",
      "source": [
        "# Algoritmo Simples\n"
      ],
      "metadata": {
        "id": "H4I6LhrUkZd1"
      },
      "execution_count": null,
      "outputs": []
    }
  ]
}