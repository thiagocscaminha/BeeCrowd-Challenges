{
  "nbformat": 4,
  "nbformat_minor": 0,
  "metadata": {
    "colab": {
      "provenance": [],
      "authorship_tag": "ABX9TyMrcdyZOIrUzD7vmcJGoBKC",
      "include_colab_link": true
    },
    "kernelspec": {
      "name": "python3",
      "display_name": "Python 3"
    },
    "language_info": {
      "name": "python"
    }
  },
  "cells": [
    {
      "cell_type": "markdown",
      "metadata": {
        "id": "view-in-github",
        "colab_type": "text"
      },
      "source": [
        "<a href=\"https://colab.research.google.com/github/thiagocscaminha/Python-Challenges-BeeCrowd/blob/main/01%20-%20Beginner%20-%20%231021%20-%20Banknotes%20and%20Coins.ipynb\" target=\"_parent\"><img src=\"https://colab.research.google.com/assets/colab-badge.svg\" alt=\"Open In Colab\"/></a>"
      ]
    },
    {
      "cell_type": "markdown",
      "source": [
        "# beecrowd | 1021 | Banknotes and Coins"
      ],
      "metadata": {
        "id": "BC1OqdFSm5XX"
      }
    },
    {
      "cell_type": "markdown",
      "source": [
        "Read a value of floating point with two decimal places. This represents a monetary value. After this, calculate the smallest possible number of notes and coins on which the value can be decomposed. The considered notes are of 100, 50, 20, 10, 5, 2. The possible coins are of 1, 0.50, 0.25, 0.10, 0.05 and 0.01. Print the message “NOTAS:” followed by the list of notes and the message “MOEDAS:” followed by the list of coins.\n",
        "\n",
        "**Input:** The input file contains a value of floating point N (0 ≤ N ≤ 1000000.00).\n",
        "\n",
        "**Output:** Print the minimum quantity of banknotes and coins necessary to change the initial value, as the given example.\n",
        "\n",
        "**Input Sample:**\t576.73  \n",
        "**Output Sample:**  \n",
        "NOTAS:  \n",
        "5 nota(s) de R$ 100.00  \n",
        "1 nota(s) de R$ 50.00  \n",
        "1 nota(s) de R$ 20.00  \n",
        "0 nota(s) de R$ 10.00  \n",
        "1 nota(s) de R$ 5.00  \n",
        "0 nota(s) de R$ 2.00  \n",
        "MOEDAS:  \n",
        "1 moeda(s) de R$ 1.00  \n",
        "1 moeda(s) de R$ 0.50  \n",
        "0 moeda(s) de R$ 0.25  \n",
        "2 moeda(s) de R$ 0.10  \n",
        "0 moeda(s) de R$ 0.05  \n",
        "3 moeda(s) de R$ 0.01\n",
        "\n",
        "**Input Sample:**\t4.00  \n",
        "**Output Sample:**  \n",
        "NOTAS:  \n",
        "0 nota(s) de R$ 100.00  \n",
        "0 nota(s) de R$ 50.00  \n",
        "0 nota(s) de R$ 20.00  \n",
        "0 nota(s) de R$ 10.00  \n",
        "0 nota(s) de R$ 5.00  \n",
        "2 nota(s) de R$ 2.00  \n",
        "MOEDAS:  \n",
        "0 moeda(s) de R$ 1.00  \n",
        "0 moeda(s) de R$ 0.50  \n",
        "0 moeda(s) de R$ 0.25  \n",
        "0 moeda(s) de R$ 0.10  \n",
        "0 moeda(s) de R$ 0.05  \n",
        "0 moeda(s) de R$ 0.01\n",
        "\n",
        "**Input Sample:**\t91.01  \n",
        "**Output Sample:**  \n",
        "NOTAS:  \n",
        "0 nota(s) de R$ 100.00  \n",
        "1 nota(s) de R$ 50.00  \n",
        "2 nota(s) de R$ 20.00  \n",
        "0 nota(s) de R$ 10.00  \n",
        "0 nota(s) de R$ 5.00  \n",
        "0 nota(s) de R$ 2.00  \n",
        "MOEDAS:  \n",
        "1 moeda(s) de R$ 1.00  \n",
        "0 moeda(s) de R$ 0.50  \n",
        "0 moeda(s) de R$ 0.25  \n",
        "0 moeda(s) de R$ 0.10  \n",
        "0 moeda(s) de R$ 0.05  \n",
        "1 moeda(s) de R$ 0.01\n"
      ],
      "metadata": {
        "id": "pWooyjXpm-23"
      }
    },
    {
      "cell_type": "code",
      "execution_count": 49,
      "metadata": {
        "id": "OdYJya_amcP0",
        "colab": {
          "base_uri": "https://localhost:8080/"
        },
        "outputId": "445dbf45-ec2a-4829-a9c1-609d34c7e18e"
      },
      "outputs": [
        {
          "output_type": "stream",
          "name": "stdout",
          "text": [
            "11.4\n",
            "NOTAS:\n",
            "0 nota(s) de R$ 100.00\n",
            "0 nota(s) de R$ 50.00\n",
            "0 nota(s) de R$ 20.00\n",
            "1 nota(s) de R$ 10.00\n",
            "0 nota(s) de R$ 5.00\n",
            "0 nota(s) de R$ 2.00\n",
            "MOEDAS:\n",
            "1 moeda(s) de R$ 1.00\n",
            "0 moeda(s) de R$ 0.50\n",
            "1 moeda(s) de R$ 0.25\n",
            "1 moeda(s) de R$ 0.10\n",
            "1 moeda(s) de R$ 0.05\n",
            "0 moeda(s) de R$ 0.01\n"
          ]
        }
      ],
      "source": [
        "money = round(float(input()),2)\n",
        "nota100 = int(money / 100)\n",
        "money = money % 100\n",
        "nota50 = int(money / 50)\n",
        "money = money % 50\n",
        "nota20 = int(money / 20)\n",
        "money = money % 20\n",
        "nota10 = int(money / 10)\n",
        "money = money % 10\n",
        "nota5 = int(money / 5)\n",
        "money = money % 5\n",
        "nota2 = int(money / 2)\n",
        "money = money % 2\n",
        "moeda100 = int(money / 1)\n",
        "money = (money % 1) * 100\n",
        "moeda050 = int(money / 50)\n",
        "money = money % 50\n",
        "moeda025 = int(money / 25)\n",
        "money = money %  25\n",
        "moeda010 = int(money / 10)\n",
        "money = money % 10\n",
        "moeda005 = int(money / 5)\n",
        "money = money % 5\n",
        "moeda001 = int(money / 1)\n",
        "\n",
        "print('NOTAS:')\n",
        "print('{} nota(s) de R$ 100.00'.format(nota100))\n",
        "print('{} nota(s) de R$ 50.00'.format(nota50))\n",
        "print('{} nota(s) de R$ 20.00'.format(nota20))\n",
        "print('{} nota(s) de R$ 10.00'.format(nota10))\n",
        "print('{} nota(s) de R$ 5.00'.format(nota5))\n",
        "print('{} nota(s) de R$ 2.00'.format(nota2))\n",
        "print('MOEDAS:')\n",
        "print('{} moeda(s) de R$ 1.00'.format(moeda100))\n",
        "print('{} moeda(s) de R$ 0.50'.format(moeda050))\n",
        "print('{} moeda(s) de R$ 0.25'.format(moeda025))\n",
        "print('{} moeda(s) de R$ 0.10'.format(moeda010))\n",
        "print('{} moeda(s) de R$ 0.05'.format(moeda005))\n",
        "print('{} moeda(s) de R$ 0.01'.format(moeda001))\n"
      ]
    }
  ]
}