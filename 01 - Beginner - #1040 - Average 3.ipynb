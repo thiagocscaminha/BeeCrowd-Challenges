{
  "nbformat": 4,
  "nbformat_minor": 0,
  "metadata": {
    "colab": {
      "provenance": [],
      "authorship_tag": "ABX9TyO42P1fDwx8cCp5bS+g3dHI",
      "include_colab_link": true
    },
    "kernelspec": {
      "name": "python3",
      "display_name": "Python 3"
    },
    "language_info": {
      "name": "python"
    }
  },
  "cells": [
    {
      "cell_type": "markdown",
      "metadata": {
        "id": "view-in-github",
        "colab_type": "text"
      },
      "source": [
        "<a href=\"https://colab.research.google.com/github/thiagocscaminha/Python-Challenges-BeeCrowd/blob/main/01%20-%20Beginner%20-%20%231040%20-%20Average%203.ipynb\" target=\"_parent\"><img src=\"https://colab.research.google.com/assets/colab-badge.svg\" alt=\"Open In Colab\"/></a>"
      ]
    },
    {
      "cell_type": "markdown",
      "source": [
        "# beecrowd | 1040 | Average 3"
      ],
      "metadata": {
        "id": "BC1OqdFSm5XX"
      }
    },
    {
      "cell_type": "markdown",
      "source": [
        "Read four numbers (N1, N2, N3, N4), which one with 1 digit after the decimal point, corresponding to 4 scores obtained by a student. Calculate the average with weights 2, 3, 4 e 1 respectively, for these 4 scores and print the message \"Media: \" (Average), followed by the calculated result. If the average was 7.0 or more, print the message \"Aluno aprovado.\" (Approved Student). If the average was less than 5.0, print the message: \"Aluno reprovado.\" (Reproved Student). If the average was between 5.0 and 6.9, including these, the program must print the message \"Aluno em exame.\" (In exam student).\n",
        "\n",
        "In case of exam, read one more score. Print the message \"Nota do exame: \" (Exam score) followed by the typed score. Recalculate the average (sum the exam score with the previous calculated average and divide by 2) and print the message “Aluno aprovado.” (Approved student) in case of average 5.0 or more) or \"Aluno reprovado.\" (Reproved student) in case of average 4.9 or less. For these 2 cases (approved or reproved after the exam) print the message \"Media final: \" (Final average) followed by the final average for this student in the last line.\n",
        "\n",
        "**Input:** The input contains four floating point numbers that represent the students' grades.\n",
        "\n",
        "**Output:** Print all the answers with one digit after the decimal point.\n",
        "\n",
        "**Input Sample:**  \n",
        "2.0 4.0 7.5 8.0  \n",
        "6.4  \n",
        "**Output Sample:**  \n",
        "Media: 5.4  \n",
        "Aluno em exame.  \n",
        "Nota do exame: 6.4  \n",
        "Aluno aprovado.  \n",
        "Media final: 5.9\n",
        "\n",
        "**Input Sample:**  \n",
        "2.0 6.5 4.0 9.0  \n",
        "**Output Sample:**  \n",
        "Media: 4.8  \n",
        "Aluno reprovado.\n",
        "\n",
        "**Input Sample:**  \n",
        "9.0 4.0 8.5 9.0  \n",
        "**Output Sample:**  \n",
        "Media: 7.3  \n",
        "Aluno aprovado.\n"
      ],
      "metadata": {
        "id": "pWooyjXpm-23"
      }
    },
    {
      "cell_type": "code",
      "execution_count": 74,
      "metadata": {
        "id": "OdYJya_amcP0",
        "colab": {
          "base_uri": "https://localhost:8080/"
        },
        "outputId": "726a4189-6027-44e2-babb-2070fa58d346"
      },
      "outputs": [
        {
          "output_type": "stream",
          "name": "stdout",
          "text": [
            " 9.0 4.0 8.5 9.0\n",
            "Media: 7.3\n",
            "Aluno aprovado.\n"
          ]
        }
      ],
      "source": [
        "N1, N2, N3, N4 = map(float,input().split())\n",
        "media = ((N1*2) + (N2*3) + (N3*4) + (N4*1)) / (2 + 3 + 4 + 1)\n",
        "print('Media: {:.1f}'.format(media))\n",
        "if (media >= 7):\n",
        "  print('Aluno aprovado.')\n",
        "elif (media < 5):\n",
        "  print('Aluno reprovado.')\n",
        "elif (5 <= media < 7):\n",
        "  print('Aluno em exame.')\n",
        "  exame = round(float(input()),1)\n",
        "  print('Nota do exame: {:.1f}'.format(exame))\n",
        "  media = (media + exame) / 2\n",
        "  if (media >= 5):\n",
        "    print('Aluno aprovado.')\n",
        "    print('Media final: {:.1f}'.format(media))\n",
        "  else:\n",
        "    print('Aluno reprovado.')\n",
        "    print('MMedia final: {:.1f}'.format(media))"
      ]
    }
  ]
}