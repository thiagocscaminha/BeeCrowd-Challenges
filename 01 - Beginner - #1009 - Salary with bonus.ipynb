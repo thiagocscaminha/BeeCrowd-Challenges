{
  "nbformat": 4,
  "nbformat_minor": 0,
  "metadata": {
    "colab": {
      "provenance": [],
      "authorship_tag": "ABX9TyPrCp4YHOq1Shol4Qhn+bUU",
      "include_colab_link": true
    },
    "kernelspec": {
      "name": "python3",
      "display_name": "Python 3"
    },
    "language_info": {
      "name": "python"
    }
  },
  "cells": [
    {
      "cell_type": "markdown",
      "metadata": {
        "id": "view-in-github",
        "colab_type": "text"
      },
      "source": [
        "<a href=\"https://colab.research.google.com/github/thiagocscaminha/BeeCrowd-Challenges/blob/main/01%20-%20Beginner%20-%20%231009%20-%20Salary%20with%20bonus.ipynb\" target=\"_parent\"><img src=\"https://colab.research.google.com/assets/colab-badge.svg\" alt=\"Open In Colab\"/></a>"
      ]
    },
    {
      "cell_type": "markdown",
      "source": [
        "# beecrowd | 1009 | Salary with Bonus"
      ],
      "metadata": {
        "id": "BC1OqdFSm5XX"
      }
    },
    {
      "cell_type": "markdown",
      "source": [
        "Make a program that reads a seller's name, his/her fixed salary and the sale's total made by himself/herself in the month (in money). Considering that this seller receives 15% over all products sold, write the final salary (total) of this seller at the end of the month , with two decimal places.\n",
        "\n",
        "- Don’t forget to print the line's end after the result, otherwise you will receive “Presentation Error”.\n",
        "\n",
        "- Don’t forget the blank spaces.\n",
        "\n",
        "**Input**: The input file contains a text (employee's first name), and two double precision values, that are the seller's salary and the total value sold by him/her.\n",
        "\n",
        "**Output**: Print the seller's total salary, according to the given example."
      ],
      "metadata": {
        "id": "pWooyjXpm-23"
      }
    },
    {
      "cell_type": "code",
      "execution_count": 28,
      "metadata": {
        "id": "OdYJya_amcP0",
        "colab": {
          "base_uri": "https://localhost:8080/"
        },
        "outputId": "84db3896-f0bf-4df9-9a25-43edf0cc2f1a"
      },
      "outputs": [
        {
          "output_type": "stream",
          "name": "stdout",
          "text": [
            "MANGOJATA\n",
            "1700\n",
            "1230.5\n",
            "1884.58\n"
          ]
        }
      ],
      "source": [
        "name = input()\n",
        "salary = float(input())\n",
        "sales_total = float(input())\n",
        "final_salary = salary + (sales_total * 0.15)\n",
        "print('TOTAL = R$ {:.2f}'.format(final_salary))\n"
      ]
    }
  ]
}