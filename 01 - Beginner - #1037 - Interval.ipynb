{
  "nbformat": 4,
  "nbformat_minor": 0,
  "metadata": {
    "colab": {
      "provenance": [],
      "authorship_tag": "ABX9TyOBhLCP2UqjBXimHXrLJuI2",
      "include_colab_link": true
    },
    "kernelspec": {
      "name": "python3",
      "display_name": "Python 3"
    },
    "language_info": {
      "name": "python"
    }
  },
  "cells": [
    {
      "cell_type": "markdown",
      "metadata": {
        "id": "view-in-github",
        "colab_type": "text"
      },
      "source": [
        "<a href=\"https://colab.research.google.com/github/thiagocscaminha/Python-Challenges-BeeCrowd/blob/main/01%20-%20Beginner%20-%20%231037%20-%20Interval.ipynb\" target=\"_parent\"><img src=\"https://colab.research.google.com/assets/colab-badge.svg\" alt=\"Open In Colab\"/></a>"
      ]
    },
    {
      "cell_type": "markdown",
      "source": [
        "# beecrowd | 1037 | Interval"
      ],
      "metadata": {
        "id": "BC1OqdFSm5XX"
      }
    },
    {
      "cell_type": "markdown",
      "source": [
        "You must make a program that read a float-point number and print a message saying in which of following intervals the number belongs: [0,25] (25,50], (50,75], (75,100]. If the read number is less than zero or greather than 100, the program must print the message “Fora de intervalo” that means \"Out of Interval\".\n",
        "\n",
        "The symbol '(' represents greather than. For example:\n",
        "[0,25] indicates numbers between 0 and 25.0000, including both.\n",
        "(25,50] indicates numbers greather than 25 (25.00001) up to 50.0000000.\n",
        "\n",
        "**Input:** The input file contains a floating-point number.\n",
        "\n",
        "**Output:** The output must be a message like following example.\n",
        "\n",
        "**Input Sample:**\t25.01  \n",
        "**Output Sample:** Intervalo (25,50]\n",
        "\n",
        "**Input Sample:**\t25.00  \n",
        "**Output Sample:** Intervalo [0,25]\n",
        "\n",
        "**Input Sample:**\t100.00  \n",
        "**Output Sample:** Intervalo (75,100]\n",
        "\n",
        "**Input Sample:**\t-25.02  \n",
        "**Output Sample:** Fora de intervalo\n"
      ],
      "metadata": {
        "id": "pWooyjXpm-23"
      }
    },
    {
      "cell_type": "code",
      "execution_count": 65,
      "metadata": {
        "id": "OdYJya_amcP0",
        "colab": {
          "base_uri": "https://localhost:8080/"
        },
        "outputId": "43fc15d1-ad1f-42de-b85c-6c64fa76b7ff"
      },
      "outputs": [
        {
          "output_type": "stream",
          "name": "stdout",
          "text": [
            "-25.02\n",
            "Fora de intervalo\n"
          ]
        }
      ],
      "source": [
        "number = float(input())\n",
        "if (number < 0) or (number > 100):\n",
        "  print('Fora de intervalo')\n",
        "elif (0 <= number <= 25):\n",
        "  print('Intervalo [0,25]')\n",
        "elif (25 < number <= 50):\n",
        "  print('Intervalo (25,50]')\n",
        "elif (50 < number <= 75):\n",
        "  print('Intervalo (50,75]')\n",
        "elif (75 < number <= 100):\n",
        "  print('Intervalo (75,100]')"
      ]
    }
  ]
}