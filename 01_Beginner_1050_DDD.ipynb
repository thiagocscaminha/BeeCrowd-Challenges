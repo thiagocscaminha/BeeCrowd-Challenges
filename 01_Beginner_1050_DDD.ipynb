{
  "nbformat": 4,
  "nbformat_minor": 0,
  "metadata": {
    "colab": {
      "provenance": [],
      "authorship_tag": "ABX9TyPN/A1PG2nvKQVIcRt0+F2e",
      "include_colab_link": true
    },
    "kernelspec": {
      "name": "python3",
      "display_name": "Python 3"
    },
    "language_info": {
      "name": "python"
    }
  },
  "cells": [
    {
      "cell_type": "markdown",
      "metadata": {
        "id": "view-in-github",
        "colab_type": "text"
      },
      "source": [
        "<a href=\"https://colab.research.google.com/github/thiagocscaminha/Python-Challenges-BeeCrowd/blob/main/01_Beginner_1050_DDD.ipynb\" target=\"_parent\"><img src=\"https://colab.research.google.com/assets/colab-badge.svg\" alt=\"Open In Colab\"/></a>"
      ]
    },
    {
      "cell_type": "markdown",
      "source": [
        "# beecrowd | 1050 | DDD"
      ],
      "metadata": {
        "id": "MG_H4TEr8Bll"
      }
    },
    {
      "cell_type": "markdown",
      "source": [
        "Read an integer number that is the code number for phone dialing. Then, print the destination according to the following table:\n",
        "\n",
        "![](https://resources.beecrowd.com/gallery/images/problems/UOJ_1050.png)\n",
        "\n",
        "If the input number isn’t found in the above table, the output must be:  \n",
        "DDD nao cadastrado  \n",
        "That means “DDD not found” in Portuguese language.\n",
        "\n",
        "**Input:** The input consists in a unique integer number.\n",
        "\n",
        "**Output:** Print the city name corresponding to the input DDD. Print DDD nao cadastrado if doesn't exist corresponding DDD to the typed number."
      ],
      "metadata": {
        "id": "lymceu538DpV"
      }
    },
    {
      "cell_type": "code",
      "source": [
        "ddd = int(input().strip())\n",
        "\n",
        "if ddd == 61:\n",
        "  print('Brasilia')\n",
        "elif ddd == 71:\n",
        "  print('Salvador')\n",
        "elif ddd == 11:\n",
        "  print('Sao Paulo')\n",
        "elif ddd == 21:\n",
        "  print('Rio de Janeiro')\n",
        "elif ddd == 32:\n",
        "  print('Juiz de Fora')\n",
        "elif ddd == 19:\n",
        "  print('Campinas')\n",
        "elif ddd == 27:\n",
        "  print('Vitoria')\n",
        "elif ddd == 31:\n",
        "  print('Belo Horizonte')\n",
        "else:\n",
        "  print('DDD nao cadastrado')"
      ],
      "metadata": {
        "id": "NFWm5oHX8i-l"
      },
      "execution_count": null,
      "outputs": []
    }
  ]
}