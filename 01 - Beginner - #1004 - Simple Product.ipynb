{
  "nbformat": 4,
  "nbformat_minor": 0,
  "metadata": {
    "colab": {
      "provenance": [],
      "authorship_tag": "ABX9TyMGlvv2hTUbsq/m46aLJrZO",
      "include_colab_link": true
    },
    "kernelspec": {
      "name": "python3",
      "display_name": "Python 3"
    },
    "language_info": {
      "name": "python"
    }
  },
  "cells": [
    {
      "cell_type": "markdown",
      "metadata": {
        "id": "view-in-github",
        "colab_type": "text"
      },
      "source": [
        "<a href=\"https://colab.research.google.com/github/thiagocscaminha/Python-Challenges-BeeCrowd/blob/main/01%20-%20Beginner%20-%20%231004%20-%20Simple%20Product.ipynb\" target=\"_parent\"><img src=\"https://colab.research.google.com/assets/colab-badge.svg\" alt=\"Open In Colab\"/></a>"
      ]
    },
    {
      "cell_type": "markdown",
      "source": [
        "# beecrowd | 1004 | Simple Product"
      ],
      "metadata": {
        "id": "BC1OqdFSm5XX"
      }
    },
    {
      "cell_type": "markdown",
      "source": [
        "Read two integer values. After this, calculate the product between them and store the result in a variable named PROD. Print the result like the example below. Do not forget to print the end of line after the result, otherwise you will receive “Presentation Error”.\n",
        "\n",
        "**Input:** The input file contains 2 integer numbers.\n",
        "\n",
        "**Output:** Print the message \"PROD\" and PROD according to the following example, with a blank space before and after the equal signal.\n",
        "\n",
        "\n",
        "**Input Samples:** 3 9\n",
        "**Output Samples:** PROD = 27\n",
        "\n",
        "**Input Samples:** -30 10\n",
        "**Output Samples:** PROD = -300\n",
        "\n",
        "**Input Samples:** 0 9\n",
        "**Output Samples:** PROD = 0"
      ],
      "metadata": {
        "id": "pWooyjXpm-23"
      }
    },
    {
      "cell_type": "code",
      "execution_count": null,
      "metadata": {
        "id": "OdYJya_amcP0",
        "colab": {
          "base_uri": "https://localhost:8080/"
        },
        "outputId": "35573efc-b290-4b9a-9685-1f190d5f1ac2"
      },
      "outputs": [
        {
          "output_type": "stream",
          "name": "stdout",
          "text": [
            "3\n",
            "9\n",
            "PROD = 12\n"
          ]
        }
      ],
      "source": [
        "a = int(input())\n",
        "b = int(input())\n",
        "PROD = a * b\n",
        "print('PROD =',PROD)"
      ]
    }
  ]
}