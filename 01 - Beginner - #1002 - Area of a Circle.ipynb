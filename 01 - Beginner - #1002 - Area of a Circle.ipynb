{
  "nbformat": 4,
  "nbformat_minor": 0,
  "metadata": {
    "colab": {
      "provenance": [],
      "authorship_tag": "ABX9TyM2zN1osk+Pk0LgTpZWFSnc",
      "include_colab_link": true
    },
    "kernelspec": {
      "name": "python3",
      "display_name": "Python 3"
    },
    "language_info": {
      "name": "python"
    }
  },
  "cells": [
    {
      "cell_type": "markdown",
      "metadata": {
        "id": "view-in-github",
        "colab_type": "text"
      },
      "source": [
        "<a href=\"https://colab.research.google.com/github/thiagocscaminha/BeeCrowd-Challenges/blob/main/01%20-%20Beginner%20-%20%231001%20-%20Area%20of%20a%20Circle.ipynb\" target=\"_parent\"><img src=\"https://colab.research.google.com/assets/colab-badge.svg\" alt=\"Open In Colab\"/></a>"
      ]
    },
    {
      "cell_type": "markdown",
      "source": [
        "# beecrowd | 1002 | Area of a Circle"
      ],
      "metadata": {
        "id": "tkuxYmzsT5I1"
      }
    },
    {
      "cell_type": "markdown",
      "source": [
        "The formula to calculate the area of a circumference is defined as A = π . R2. Considering to this problem that π = 3.14159:\n",
        "\n",
        "Calculate the area using the formula given in the problem description.\n",
        "\n",
        "**Input:** The input contains a value of floating point (double precision), that is the variable R.\n",
        "\n",
        "**Output:** Present the message \"A=\" followed by the value of the variable, as in the example bellow, with four places after the decimal point. Use all double precision variables. Like all the problems, don't forget to print the end of line after the result, otherwise you will receive \"Presentation Error\"."
      ],
      "metadata": {
        "id": "hnUqQhiAUI7U"
      }
    },
    {
      "cell_type": "code",
      "execution_count": 13,
      "metadata": {
        "colab": {
          "base_uri": "https://localhost:8080/"
        },
        "id": "s44zPGmWTy1_",
        "outputId": "cdef1b9f-0492-4cc8-f6b1-68da87abc082"
      },
      "outputs": [
        {
          "output_type": "stream",
          "name": "stdout",
          "text": [
            "150\n",
            "A=70685.7750\n"
          ]
        }
      ],
      "source": [
        "raio = float(input())\n",
        "area = 3.14159 * pow(raio,2)\n",
        "print('A={:.4f}'.format(area))"
      ]
    }
  ]
}
