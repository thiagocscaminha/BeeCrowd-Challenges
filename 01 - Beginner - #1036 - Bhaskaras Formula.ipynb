{
  "nbformat": 4,
  "nbformat_minor": 0,
  "metadata": {
    "colab": {
      "provenance": [],
      "authorship_tag": "ABX9TyPL3I/nRGAKROOQhADiToO0",
      "include_colab_link": true
    },
    "kernelspec": {
      "name": "python3",
      "display_name": "Python 3"
    },
    "language_info": {
      "name": "python"
    }
  },
  "cells": [
    {
      "cell_type": "markdown",
      "metadata": {
        "id": "view-in-github",
        "colab_type": "text"
      },
      "source": [
        "<a href=\"https://colab.research.google.com/github/thiagocscaminha/Python-Challenges-BeeCrowd/blob/main/01%20-%20Beginner%20-%20%231036%20-%20Bhaskaras%20Formula.ipynb\" target=\"_parent\"><img src=\"https://colab.research.google.com/assets/colab-badge.svg\" alt=\"Open In Colab\"/></a>"
      ]
    },
    {
      "cell_type": "markdown",
      "source": [
        "# beecrowd | 1036 | Bhaskara's Formula"
      ],
      "metadata": {
        "id": "BC1OqdFSm5XX"
      }
    },
    {
      "cell_type": "markdown",
      "source": [
        "Read 3 floating-point numbers. After, print the roots of bhaskara’s formula. If it's impossible to calculate the roots because a division by zero or a square root of a negative number, presents the message “Impossivel calcular”.\n",
        "\n",
        "**Input:** Read 3 floating-point numbers (double) A, B and C.\n",
        "\n",
        "**Output:** Print the result with 5 digits after the decimal point or the message if it is impossible to calculate.\n",
        "\n",
        "**Input Samples:**  \n",
        "10.0 20.1 5.1  \n",
        "**Output Samples:**  \n",
        "R1 = -0.29788  \n",
        "R2 = -1.71212\n",
        "\n",
        "**Input Samples:**  \n",
        "0.0 20.0 5.0  \n",
        "**Output Samples:**  \n",
        "Impossivel calcular\n",
        "\n",
        "**Input Samples:**  \n",
        "10.3 203.0 5.0  \n",
        "**Output Samples:**  \n",
        "R1 = -0.02466  \n",
        "R2 = -19.68408\n",
        "\n",
        "**Input Samples:**  \n",
        "10.0 3.0 5.0  \n",
        "**Output Samples:**  \n",
        "Impossivel calcular\n"
      ],
      "metadata": {
        "id": "pWooyjXpm-23"
      }
    },
    {
      "cell_type": "code",
      "execution_count": 61,
      "metadata": {
        "id": "OdYJya_amcP0",
        "colab": {
          "base_uri": "https://localhost:8080/"
        },
        "outputId": "db19892f-b698-4d14-a008-1b603cf5604b"
      },
      "outputs": [
        {
          "output_type": "stream",
          "name": "stdout",
          "text": [
            "10.0 3.0 5.0\n",
            "Impossivel calcular\n"
          ]
        }
      ],
      "source": [
        "import math\n",
        "\n",
        "A, B, C = map(float,input().split())\n",
        "delta = pow(B,2) - (4 * A * C)\n",
        "if (delta < 0) or (A == 0):\n",
        "  print('Impossivel calcular')\n",
        "else:\n",
        "  R1 = (-B + math.sqrt(delta)) / (2 * A)\n",
        "  R2 = (-B - math.sqrt(delta)) / (2 * A)\n",
        "  print('R1 = {:.5f}'.format(R1))\n",
        "  print('R2 = {:.5f}'.format(R2))"
      ]
    }
  ]
}