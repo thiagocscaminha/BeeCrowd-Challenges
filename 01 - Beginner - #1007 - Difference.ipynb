{
  "nbformat": 4,
  "nbformat_minor": 0,
  "metadata": {
    "colab": {
      "provenance": [],
      "authorship_tag": "ABX9TyNsHVD26s2YFkM7RyRnYVkI",
      "include_colab_link": true
    },
    "kernelspec": {
      "name": "python3",
      "display_name": "Python 3"
    },
    "language_info": {
      "name": "python"
    }
  },
  "cells": [
    {
      "cell_type": "markdown",
      "metadata": {
        "id": "view-in-github",
        "colab_type": "text"
      },
      "source": [
        "<a href=\"https://colab.research.google.com/github/thiagocscaminha/Python-Challenges-BeeCrowd/blob/main/01%20-%20Beginner%20-%20%231007%20-%20Difference.ipynb\" target=\"_parent\"><img src=\"https://colab.research.google.com/assets/colab-badge.svg\" alt=\"Open In Colab\"/></a>"
      ]
    },
    {
      "cell_type": "markdown",
      "source": [
        "# beecrowd | 1007 | Difference"
      ],
      "metadata": {
        "id": "BC1OqdFSm5XX"
      }
    },
    {
      "cell_type": "markdown",
      "source": [
        "Read four integer values named A, B, C and D. Calculate and print the difference of product A and B by the product of C and D (A * B - C * D).\n",
        "\n",
        "**Input**: The input file contains 4 integer values.\n",
        "\n",
        "**Output**: Print DIFERENCA (DIFFERENCE in Portuguese) with all the capital letters, according to the following example, with a blank space before and after the equal signal.\n",
        "\n",
        "\n",
        "**Input Samples:** 5 6 7 8  \n",
        "**Output Samples:** DIFERENCA = -26\n",
        "\n",
        "**Input Samples:** 0 0 7 8  \n",
        "**Output Samples:** DIFERENCA = -56\n",
        "\n",
        "**Input Samples:** 5 6 -7 8  \n",
        "**Output Samples:** DIFERENCA = 86"
      ],
      "metadata": {
        "id": "pWooyjXpm-23"
      }
    },
    {
      "cell_type": "code",
      "execution_count": null,
      "metadata": {
        "id": "OdYJya_amcP0",
        "colab": {
          "base_uri": "https://localhost:8080/"
        },
        "outputId": "2cbed9d7-316a-4ca5-ee0f-a2c9cee07d94"
      },
      "outputs": [
        {
          "output_type": "stream",
          "name": "stdout",
          "text": [
            "5\n",
            "6\n",
            "-7\n",
            "8\n",
            "DIFERENCA = 86\n"
          ]
        }
      ],
      "source": [
        "A = int(input())\n",
        "B = int(input())\n",
        "C = int(input())\n",
        "D = int(input())\n",
        "DIFERENCA = ((A * B) - (C * D))\n",
        "print('DIFERENCA =',DIFERENCA)\n"
      ]
    }
  ]
}