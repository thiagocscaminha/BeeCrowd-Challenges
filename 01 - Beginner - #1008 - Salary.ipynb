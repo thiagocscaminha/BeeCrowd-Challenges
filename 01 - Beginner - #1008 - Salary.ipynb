{
  "nbformat": 4,
  "nbformat_minor": 0,
  "metadata": {
    "colab": {
      "provenance": [],
      "authorship_tag": "ABX9TyPRV7hwz2X31aAyqD+zGklw",
      "include_colab_link": true
    },
    "kernelspec": {
      "name": "python3",
      "display_name": "Python 3"
    },
    "language_info": {
      "name": "python"
    }
  },
  "cells": [
    {
      "cell_type": "markdown",
      "metadata": {
        "id": "view-in-github",
        "colab_type": "text"
      },
      "source": [
        "<a href=\"https://colab.research.google.com/github/thiagocscaminha/Python-Challenges-BeeCrowd/blob/main/01%20-%20Beginner%20-%20%231008%20-%20Salary.ipynb\" target=\"_parent\"><img src=\"https://colab.research.google.com/assets/colab-badge.svg\" alt=\"Open In Colab\"/></a>"
      ]
    },
    {
      "cell_type": "markdown",
      "source": [
        "# beecrowd | 1008 | Salary"
      ],
      "metadata": {
        "id": "BC1OqdFSm5XX"
      }
    },
    {
      "cell_type": "markdown",
      "source": [
        "Write a program that reads an employee's number, his/her worked hours number in a month and the amount he received per hour. Print the employee's number and salary that he/she will receive at end of the month, with two decimal places.\n",
        "\n",
        "Don’t forget to print the line's end after the result, otherwise you will receive “Presentation Error”.\n",
        "Don’t forget the space before and after the equal signal and after the U$.\n",
        "\n",
        "**Input**: The input file contains 2 integer numbers and 1 value of floating point, representing the number, worked hours amount and the amount the employee receives per worked hour.\n",
        "\n",
        "**Output**: Print the number and the employee's salary, according to the given example, with a blank space before and after the equal signal.\n",
        "\n",
        "\n",
        "**Input Samples:** 25 100 5.50\n",
        "**Output Samples:** NUMBER = 25 SALARY = U$ 550.00\n",
        "\n",
        "**Input Samples:** 1 200 20.50\n",
        "**Output Samples:** NUMBER = 1 SALARY = U$ 4100.00\n",
        "\n",
        "**Input Samples:** 6 145 15.55\n",
        "**Output Samples:** NUMBER = 6 SALARY = U$ 2254.75"
      ],
      "metadata": {
        "id": "pWooyjXpm-23"
      }
    },
    {
      "cell_type": "code",
      "execution_count": null,
      "metadata": {
        "id": "OdYJya_amcP0",
        "colab": {
          "base_uri": "https://localhost:8080/"
        },
        "outputId": "b82170af-67f0-42d8-9ab3-5cb5985eb0ef"
      },
      "outputs": [
        {
          "output_type": "stream",
          "name": "stdout",
          "text": [
            "6\n",
            "145\n",
            "15.55\n",
            "NUMBER = 6\n",
            "SALARY = U$ 2254.75\n"
          ]
        }
      ],
      "source": [
        "e_number = int(input())\n",
        "e_hours = int(input())\n",
        "e_salary = float(input())\n",
        "salary = e_hours * e_salary\n",
        "print('NUMBER =',e_number)\n",
        "print('SALARY = U$ {:.2f}'.format(salary))\n",
        "\n"
      ]
    }
  ]
}