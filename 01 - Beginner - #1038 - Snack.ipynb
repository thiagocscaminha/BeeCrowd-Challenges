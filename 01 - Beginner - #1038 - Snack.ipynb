{
  "nbformat": 4,
  "nbformat_minor": 0,
  "metadata": {
    "colab": {
      "provenance": [],
      "authorship_tag": "ABX9TyN588tZaXAaAc4y/9tFZ22A",
      "include_colab_link": true
    },
    "kernelspec": {
      "name": "python3",
      "display_name": "Python 3"
    },
    "language_info": {
      "name": "python"
    }
  },
  "cells": [
    {
      "cell_type": "markdown",
      "metadata": {
        "id": "view-in-github",
        "colab_type": "text"
      },
      "source": [
        "<a href=\"https://colab.research.google.com/github/thiagocscaminha/Python-Challenges-BeeCrowd/blob/main/01%20-%20Beginner%20-%20%231038%20-%20Snack.ipynb\" target=\"_parent\"><img src=\"https://colab.research.google.com/assets/colab-badge.svg\" alt=\"Open In Colab\"/></a>"
      ]
    },
    {
      "cell_type": "markdown",
      "source": [
        "# beecrowd | 1038 | Snack"
      ],
      "metadata": {
        "id": "BC1OqdFSm5XX"
      }
    },
    {
      "cell_type": "markdown",
      "source": [
        "Using the following table, write a program that reads a code and the amount of an item. After, print the value to pay. This is a very simple program with the only intention of practice of selection commands.\n",
        "\n",
        "![](https://resources.beecrowd.com/gallery/images/problems/UOJ_1038_en.png)\n",
        "\n",
        "**Input:** The input file contains two integer numbers X and Y. X is the product code and Y is the quantity of this item according to the above table.\n",
        "\n",
        "**Output:** The output must be a message \"Total: R$ \" followed by the total value to be paid, with 2 digits after the decimal point.\n",
        "\n",
        "**Input Sample:**\t3 2  \n",
        "**Output Sample:** Total: R$ 10.00\n",
        "\n",
        "**Input Sample:**\t4 3  \n",
        "**Output Sample:** Total: R$ 6.00\n",
        "\n",
        "**Input Sample:**\t2 3  \n",
        "**Output Sample:** Total: R$ 13.50"
      ],
      "metadata": {
        "id": "pWooyjXpm-23"
      }
    },
    {
      "cell_type": "code",
      "execution_count": 69,
      "metadata": {
        "id": "OdYJya_amcP0",
        "colab": {
          "base_uri": "https://localhost:8080/"
        },
        "outputId": "7e9dd6af-c073-4735-d6f1-161847b1c34e"
      },
      "outputs": [
        {
          "output_type": "stream",
          "name": "stdout",
          "text": [
            "2 3\n",
            "Total: R$ 13.50\n"
          ]
        }
      ],
      "source": [
        "X, Y = map(int,input().split())\n",
        "\n",
        "if (X == 1):\n",
        "  total = Y * 4\n",
        "  print('Total: R$ {:.2f}'.format(total))\n",
        "elif (X == 2):\n",
        "  total = Y * 4.5\n",
        "  print('Total: R$ {:.2f}'.format(total))\n",
        "elif (X == 3):\n",
        "  total = Y * 5\n",
        "  print('Total: R$ {:.2f}'.format(total))\n",
        "elif (X == 4):\n",
        "  total = Y * 2\n",
        "  print('Total: R$ {:.2f}'.format(total))\n",
        "elif (X == 5):\n",
        "  total = Y * 1.5\n",
        "  print('Total: R$ {:.2f}'.format(total))\n",
        "else:\n",
        "  print('Produto não encontrado')\n"
      ]
    }
  ]
}