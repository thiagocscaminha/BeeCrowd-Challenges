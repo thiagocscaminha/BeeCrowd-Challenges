{
  "nbformat": 4,
  "nbformat_minor": 0,
  "metadata": {
    "colab": {
      "provenance": [],
      "authorship_tag": "ABX9TyMSddSDDVwF3Jisxp9azMOz",
      "include_colab_link": true
    },
    "kernelspec": {
      "name": "python3",
      "display_name": "Python 3"
    },
    "language_info": {
      "name": "python"
    }
  },
  "cells": [
    {
      "cell_type": "markdown",
      "metadata": {
        "id": "view-in-github",
        "colab_type": "text"
      },
      "source": [
        "<a href=\"https://colab.research.google.com/github/thiagocscaminha/Python-Challenges-BeeCrowd/blob/main/01%20-%20Beginner%20-%20%231019%20-%20Time%20Conversion.ipynb\" target=\"_parent\"><img src=\"https://colab.research.google.com/assets/colab-badge.svg\" alt=\"Open In Colab\"/></a>"
      ]
    },
    {
      "cell_type": "markdown",
      "source": [
        "# beecrowd | 1019 | Time Conversion"
      ],
      "metadata": {
        "id": "BC1OqdFSm5XX"
      }
    },
    {
      "cell_type": "markdown",
      "source": [
        "Read an integer value, which is the duration in seconds of a certain event in a factory, and inform it expressed in hours:minutes:seconds.\n",
        "\n",
        "**Input:** The input file contains an integer N.\n",
        "\n",
        "**Output:** Print the read time in the input file (seconds) converted in hours:minutes:seconds like the following example.\n",
        "\n",
        "**Input Sample:**\t556\n",
        "**Output Sample:** 0:9:16\n",
        "\n",
        "**Input Sample:**\t1\n",
        "**Output Sample:** 0:0:1\n",
        "\n",
        "**Input Sample:**\t140153\n",
        "**Output Sample:** 38:55:53"
      ],
      "metadata": {
        "id": "pWooyjXpm-23"
      }
    },
    {
      "cell_type": "code",
      "execution_count": 10,
      "metadata": {
        "id": "OdYJya_amcP0",
        "colab": {
          "base_uri": "https://localhost:8080/"
        },
        "outputId": "261ceb86-5708-48fe-c887-ef1922b6fa9e"
      },
      "outputs": [
        {
          "output_type": "stream",
          "name": "stdout",
          "text": [
            "140153\n",
            "38:55:53\n"
          ]
        }
      ],
      "source": [
        "time = int(input())\n",
        "hours = int(time / 3600)\n",
        "time = int(time % 3600)\n",
        "minutes = int(time / 60)\n",
        "seconds =  int(time % 60)\n",
        "print('{:.0f}:{:.0f}:{:.0f}'.format(hours,minutes,seconds))"
      ]
    }
  ]
}