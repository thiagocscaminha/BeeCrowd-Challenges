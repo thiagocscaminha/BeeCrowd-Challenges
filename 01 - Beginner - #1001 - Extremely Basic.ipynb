{
  "nbformat": 4,
  "nbformat_minor": 0,
  "metadata": {
    "colab": {
      "provenance": [],
      "authorship_tag": "ABX9TyODaB0Q8+/DInRpM7jmXZKH",
      "include_colab_link": true
    },
    "kernelspec": {
      "name": "python3",
      "display_name": "Python 3"
    },
    "language_info": {
      "name": "python"
    }
  },
  "cells": [
    {
      "cell_type": "markdown",
      "metadata": {
        "id": "view-in-github",
        "colab_type": "text"
      },
      "source": [
        "<a href=\"https://colab.research.google.com/github/thiagocscaminha/BeeCrowd-Challenges/blob/main/01%20-%20Beginner%20-%20%231001%20-%20Extremely%20Basic.ipynb\" target=\"_parent\"><img src=\"https://colab.research.google.com/assets/colab-badge.svg\" alt=\"Open In Colab\"/></a>"
      ]
    },
    {
      "cell_type": "markdown",
      "source": [
        "# beecrowd | 1001 | Extremely Basic"
      ],
      "metadata": {
        "id": "dynXWnSxPgSK"
      }
    },
    {
      "cell_type": "markdown",
      "source": [
        "Read 2 variables, named A and B and make the sum of these two variables, assigning its result to the variable X. Print X as shown below. Print endline after the result otherwise you will get “Presentation Error”.\n",
        "\n",
        "Input:\n",
        "The input file will contain 2 integer numbers.\n",
        "\n",
        "Output:\n",
        "Print the letter X (uppercase) with a blank space before and after the equal signal followed by the value of X, according to the following example.\n",
        "\n",
        "Obs.: don't forget the endline after all."
      ],
      "metadata": {
        "id": "yR8cokQzPmzh"
      }
    },
    {
      "cell_type": "code",
      "execution_count": null,
      "metadata": {
        "id": "b_RJSxdhPe_K"
      },
      "outputs": [],
      "source": [
        "a = int(input())\n",
        "b = int(input())\n",
        "x = a + b\n",
        "print('X =', x)"
      ]
    }
  ]
}