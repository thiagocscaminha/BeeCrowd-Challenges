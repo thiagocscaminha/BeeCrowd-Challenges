{
  "nbformat": 4,
  "nbformat_minor": 0,
  "metadata": {
    "colab": {
      "provenance": [],
      "authorship_tag": "ABX9TyPqP67cYRB1qg9CslWeX3HJ",
      "include_colab_link": true
    },
    "kernelspec": {
      "name": "python3",
      "display_name": "Python 3"
    },
    "language_info": {
      "name": "python"
    }
  },
  "cells": [
    {
      "cell_type": "markdown",
      "metadata": {
        "id": "view-in-github",
        "colab_type": "text"
      },
      "source": [
        "<a href=\"https://colab.research.google.com/github/thiagocscaminha/Python-Challenges-BeeCrowd/blob/main/01%20-%20Beginner%20-%20%231016%20-%20Distance.ipynb\" target=\"_parent\"><img src=\"https://colab.research.google.com/assets/colab-badge.svg\" alt=\"Open In Colab\"/></a>"
      ]
    },
    {
      "cell_type": "markdown",
      "source": [
        "# beecrowd | 1016 | Distance"
      ],
      "metadata": {
        "id": "BC1OqdFSm5XX"
      }
    },
    {
      "cell_type": "markdown",
      "source": [
        "Two cars (X and Y) leave in the same direction. The car X leaves with a constant speed of 60 km/h and the car Y leaves with a constant speed of 90 km / h.\n",
        "\n",
        "In one hour (60 minutes) the car Y can get a distance of 30 kilometers from the X car, in other words, it can get away one kilometer for each 2 minutes.\n",
        "\n",
        "Read the distance (in km) and calculate how long it takes (in minutes) for the car Y to take this distance in relation to the other car.\n",
        "\n",
        "**Input**: The input file contains 1 integer value.\n",
        "\n",
        "**Output**: Print the necessary time followed by the message \"minutos\" that means minutes in Portuguese.\n",
        "\n",
        "**Input Sample**: 30  \n",
        "**Output Sample**: 60 minutos  \n",
        "\n",
        "**Input Sample**:\t110  \n",
        "**Output Sample**: 220 minutos  \n",
        "\n",
        "**Input Sample**:\t7  \n",
        "**Output Sample**: 14 minutos"
      ],
      "metadata": {
        "id": "pWooyjXpm-23"
      }
    },
    {
      "cell_type": "code",
      "execution_count": 46,
      "metadata": {
        "id": "OdYJya_amcP0",
        "colab": {
          "base_uri": "https://localhost:8080/"
        },
        "outputId": "b5626a40-3697-46bb-bdb4-9e2e0b4b67f0"
      },
      "outputs": [
        {
          "output_type": "stream",
          "name": "stdout",
          "text": [
            "7\n",
            "14 minutos\n"
          ]
        }
      ],
      "source": [
        "distance = int(input())\n",
        "x = 60\n",
        "y = 90\n",
        "necessary_time = int(distance / ((y - x) / 60))\n",
        "print('{} minutos'.format(necessary_time))"
      ]
    }
  ]
}