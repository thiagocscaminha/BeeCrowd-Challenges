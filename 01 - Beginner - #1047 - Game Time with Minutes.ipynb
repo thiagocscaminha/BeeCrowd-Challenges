{
  "nbformat": 4,
  "nbformat_minor": 0,
  "metadata": {
    "colab": {
      "provenance": [],
      "authorship_tag": "ABX9TyMDgYyMCatcdKjjnsLdvwo8",
      "include_colab_link": true
    },
    "kernelspec": {
      "name": "python3",
      "display_name": "Python 3"
    },
    "language_info": {
      "name": "python"
    }
  },
  "cells": [
    {
      "cell_type": "markdown",
      "metadata": {
        "id": "view-in-github",
        "colab_type": "text"
      },
      "source": [
        "<a href=\"https://colab.research.google.com/github/thiagocscaminha/Python-Challenges-BeeCrowd/blob/main/01%20-%20Beginner%20-%20%231047%20-%20Game%20Time%20with%20Minutes.ipynb\" target=\"_parent\"><img src=\"https://colab.research.google.com/assets/colab-badge.svg\" alt=\"Open In Colab\"/></a>"
      ]
    },
    {
      "cell_type": "markdown",
      "source": [
        "# beecrowd | 1047 | Game Time with Minutes"
      ],
      "metadata": {
        "id": "qGG3eo2YTczH"
      }
    },
    {
      "cell_type": "markdown",
      "source": [
        "ead the start time and end time of a game, in hours and minutes (initial hour, initial minute, final hour, final minute). Then print the duration of the game, knowing that the game can begin in a day and finish in another day,\n",
        "\n",
        "Obs.: With a maximum game time of 24 hours and the minimum game time of 1 minute.\n",
        "\n",
        "**Input:** Four integer numbers representing the start and end time of the game.\n",
        "\n",
        "**Output:** Print the duration of the game in hours and minutes, in this format: “O JOGO DUROU XXX HORA(S) E YYY MINUTO(S)” . Which means: the game lasted XXX hour(s) and YYY minutes.\n",
        "\n",
        "**Input Sample:**  \n",
        "7 8 9 10  \n",
        "**Output Sample:** O JOGO DUROU 2 HORA(S) E 2 MINUTO(S)\n",
        "\n",
        "**Input Sample:**  \n",
        "7 7 7 7  \n",
        "**Output Sample:** O JOGO DUROU 24 HORA(S) E 0 MINUTO(S)\n",
        "\n",
        "**Input Sample:**  \n",
        "7 10 8 9  \n",
        "**Output Sample:** O JOGO DUROU 0 HORA(S) E 59 MINUTO(S)"
      ],
      "metadata": {
        "id": "41eK5O2ZTggK"
      }
    },
    {
      "cell_type": "markdown",
      "source": [
        "OBS1:"
      ],
      "metadata": {
        "id": "m48jw6cxfsLi"
      }
    },
    {
      "cell_type": "code",
      "source": [
        "# Algoritmo Simples\n",
        "\n",
        "StartHour, StartMinute, EndHour, EndMinute = map(int, input().split())\n",
        "\n",
        "StartTime = (StartHour * 60) + (StartMinute)\n",
        "EndTime = (EndHour * 60) + (EndMinute)\n",
        "\n",
        "if (StartTime >= EndTime):\n",
        "  EndTime += 1440\n",
        "\n",
        "duracao = EndTime - StartTime\n",
        "\n",
        "horas = int(duracao / 60)\n",
        "minutos = int(duracao % 60)\n",
        "\n",
        "print(f'O JOGO DUROU {horas} HORA(S) E {minutos} MINUTO(S)')"
      ],
      "metadata": {
        "colab": {
          "base_uri": "https://localhost:8080/"
        },
        "id": "H4I6LhrUkZd1",
        "outputId": "06706e5f-6499-46c5-a570-2263db922027"
      },
      "execution_count": null,
      "outputs": [
        {
          "output_type": "stream",
          "name": "stdout",
          "text": [
            "7 10 8 9\n",
            "O JOGO DUROU 0 HORA(S) E 59 MINUTO(S)\n"
          ]
        }
      ]
    }
  ]
}