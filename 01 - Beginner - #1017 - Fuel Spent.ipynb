{
  "nbformat": 4,
  "nbformat_minor": 0,
  "metadata": {
    "colab": {
      "provenance": [],
      "authorship_tag": "ABX9TyN32IUl3G6+3L2gtlFKQ3ig",
      "include_colab_link": true
    },
    "kernelspec": {
      "name": "python3",
      "display_name": "Python 3"
    },
    "language_info": {
      "name": "python"
    }
  },
  "cells": [
    {
      "cell_type": "markdown",
      "metadata": {
        "id": "view-in-github",
        "colab_type": "text"
      },
      "source": [
        "<a href=\"https://colab.research.google.com/github/thiagocscaminha/Python-Challenges-BeeCrowd/blob/main/01%20-%20Beginner%20-%20%231017%20-%20Fuel%20Spent.ipynb\" target=\"_parent\"><img src=\"https://colab.research.google.com/assets/colab-badge.svg\" alt=\"Open In Colab\"/></a>"
      ]
    },
    {
      "cell_type": "markdown",
      "source": [
        "# beecrowd | 1017 | Fuel Spent"
      ],
      "metadata": {
        "id": "BC1OqdFSm5XX"
      }
    },
    {
      "cell_type": "markdown",
      "source": [
        "Little John wants to calculate and show the amount of spent fuel liters on a trip, using a car that does 12 Km/L. For this, he would like you to help him through a simple program. To perform the calculation, you have to read spent time (in hours) and the same average speed (km/h). In this way, you can get distance and then, calculate how many liters would be needed. Show the value with three decimal places after the point.\n",
        "\n",
        "**Input**: The input file contains two integers. The first one is the spent time in the trip (in hours). The second one is the average speed during the trip (in Km/h).\n",
        "\n",
        "**Output**: Print how many liters would be needed to do this trip, with three digits after the decimal point.\n",
        "\n",
        "**Input Sample:**\n",
        "10  \n",
        "85  \n",
        "**Output Sample:** 70.833\n",
        "\n",
        "**Input Sample:**\n",
        "2  \n",
        "92  \n",
        "**Output Sample:** 15.333\n",
        "\n",
        "**Input Sample:**  \n",
        "22  \n",
        "67  \n",
        "**Output Sample:** 122.833"
      ],
      "metadata": {
        "id": "pWooyjXpm-23"
      }
    },
    {
      "cell_type": "code",
      "execution_count": 50,
      "metadata": {
        "id": "OdYJya_amcP0",
        "colab": {
          "base_uri": "https://localhost:8080/"
        },
        "outputId": "2deb9690-29e4-44ba-d1d7-4e191075c754"
      },
      "outputs": [
        {
          "output_type": "stream",
          "name": "stdout",
          "text": [
            "22\n",
            "67\n",
            "122.833\n"
          ]
        }
      ],
      "source": [
        "spent_time = int(input())\n",
        "average_speed = int(input())\n",
        "consumption = int(12)\n",
        "distance = spent_time * average_speed\n",
        "needed_liters = distance / consumption\n",
        "print('{:.3f}'.format(needed_liters))\n"
      ]
    }
  ]
}