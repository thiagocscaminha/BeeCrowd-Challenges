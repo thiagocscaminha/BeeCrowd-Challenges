{
  "nbformat": 4,
  "nbformat_minor": 0,
  "metadata": {
    "colab": {
      "provenance": [],
      "authorship_tag": "ABX9TyPbytM0M+npgUgB2xrKv/jr",
      "include_colab_link": true
    },
    "kernelspec": {
      "name": "python3",
      "display_name": "Python 3"
    },
    "language_info": {
      "name": "python"
    }
  },
  "cells": [
    {
      "cell_type": "markdown",
      "metadata": {
        "id": "view-in-github",
        "colab_type": "text"
      },
      "source": [
        "<a href=\"https://colab.research.google.com/github/thiagocscaminha/Python-Challenges-BeeCrowd/blob/main/01%20-%20Beginner%20-%20%231014%20-%20Consumption.ipynb\" target=\"_parent\"><img src=\"https://colab.research.google.com/assets/colab-badge.svg\" alt=\"Open In Colab\"/></a>"
      ]
    },
    {
      "cell_type": "markdown",
      "source": [
        "# beecrowd | 1014 | Consumption"
      ],
      "metadata": {
        "id": "BC1OqdFSm5XX"
      }
    },
    {
      "cell_type": "markdown",
      "source": [
        "Calculate a car's average consumption being provided the total distance traveled (in Km) and the spent fuel total (in liters).\n",
        "\n",
        "**Input:**\n",
        "The input file contains two values: one integer value X representing the total distance (in Km) and the second one is a floating point number Y  representing the spent fuel total, with a digit after the decimal point.\n",
        "\n",
        "**Output:**\n",
        "Present a value that represents the average consumption of a car with 3 digits after the decimal point, followed by the message \"km/l\".\n",
        "\n",
        "**Input Sample:**  \n",
        "500  \n",
        "35.0  \n",
        "**Output Sample:** 14.286 km/l\n",
        "\n",
        "**Input Sample:**  \n",
        "2254  \n",
        "124.4  \n",
        "**Output Sample:** 18.119 km/l\n",
        "\n",
        "**Input Sample:**\n",
        "4554  \n",
        "464.6  \n",
        "**Output Sample:** 9.802 km/l"
      ],
      "metadata": {
        "id": "pWooyjXpm-23"
      }
    },
    {
      "cell_type": "code",
      "execution_count": 22,
      "metadata": {
        "id": "OdYJya_amcP0",
        "colab": {
          "base_uri": "https://localhost:8080/"
        },
        "outputId": "b75d266f-73b0-4e37-9186-9ddfc2a41da0"
      },
      "outputs": [
        {
          "output_type": "stream",
          "name": "stdout",
          "text": [
            "4554\n",
            "464.6\n",
            "9.802 km/l\n"
          ]
        }
      ],
      "source": [
        "X = int(input())\n",
        "Y = round(float(input()),1)\n",
        "average_consumption = X / Y\n",
        "print('{:.3f} km/l'.format(average_consumption))"
      ]
    }
  ]
}