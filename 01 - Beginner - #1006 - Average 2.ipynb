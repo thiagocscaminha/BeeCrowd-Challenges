{
  "nbformat": 4,
  "nbformat_minor": 0,
  "metadata": {
    "colab": {
      "provenance": [],
      "authorship_tag": "ABX9TyOYnNsdLNcbL9ehrTCjXrHg",
      "include_colab_link": true
    },
    "kernelspec": {
      "name": "python3",
      "display_name": "Python 3"
    },
    "language_info": {
      "name": "python"
    }
  },
  "cells": [
    {
      "cell_type": "markdown",
      "metadata": {
        "id": "view-in-github",
        "colab_type": "text"
      },
      "source": [
        "<a href=\"https://colab.research.google.com/github/thiagocscaminha/Python-Challenges-BeeCrowd/blob/main/01%20-%20Beginner%20-%20%231006%20-%20Average%202.ipynb\" target=\"_parent\"><img src=\"https://colab.research.google.com/assets/colab-badge.svg\" alt=\"Open In Colab\"/></a>"
      ]
    },
    {
      "cell_type": "markdown",
      "source": [
        "# beecrowd | 1006 | Average 2"
      ],
      "metadata": {
        "id": "BC1OqdFSm5XX"
      }
    },
    {
      "cell_type": "markdown",
      "source": [
        "Read three values (variables A, B and C), which are the three student's grades. Then, calculate the average, considering that grade A has weight 2, grade B has weight 3 and the grade C has weight 5. Consider that each grade can go from 0 to 10.0, always with one decimal place.\n",
        "\n",
        "**Input**: The input file contains 3 values of floating points (double) with one digit after the decimal point.\n",
        "\n",
        "**Output**: Print the message \"MEDIA\"(average in Portuguese) and the student's average according to the following example, with a blank space before and after the equal signal.\n",
        "\n",
        "\n",
        "**Input Samples:** 5.0 6.0 7.0  \n",
        "**Output Samples:** MEDIA = 6.3\n",
        "\n",
        "**Input Samples:** 5.0 10.0 10.0  \n",
        "**Output Samples:** MEDIA = 9.0\n",
        "\n",
        "**Input Samples:** 10.0 10.0 5.0  \n",
        "**Output Samples:** MEDIA = 7.5"
      ],
      "metadata": {
        "id": "pWooyjXpm-23"
      }
    },
    {
      "cell_type": "code",
      "execution_count": null,
      "metadata": {
        "id": "OdYJya_amcP0"
      },
      "outputs": [],
      "source": [
        "A = round(float(input()),1)\n",
        "B = round(float(input()),1)\n",
        "C = round(float(input()),1)\n",
        "MEDIA = ((A * 2) + (B * 3) + (C * 5)) / (2 + 3 + 5)\n",
        "print('MEDIA = {:.1f}'.format(MEDIA))"
      ]
    }
  ]
}