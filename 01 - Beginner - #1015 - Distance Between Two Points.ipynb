{
  "nbformat": 4,
  "nbformat_minor": 0,
  "metadata": {
    "colab": {
      "provenance": [],
      "authorship_tag": "ABX9TyPNMq3x+LAT6MqFrFaP+lIq",
      "include_colab_link": true
    },
    "kernelspec": {
      "name": "python3",
      "display_name": "Python 3"
    },
    "language_info": {
      "name": "python"
    }
  },
  "cells": [
    {
      "cell_type": "markdown",
      "metadata": {
        "id": "view-in-github",
        "colab_type": "text"
      },
      "source": [
        "<a href=\"https://colab.research.google.com/github/thiagocscaminha/Python-Challenges-BeeCrowd/blob/main/01%20-%20Beginner%20-%20%231015%20-%20Distance%20Between%20Two%20Points.ipynb\" target=\"_parent\"><img src=\"https://colab.research.google.com/assets/colab-badge.svg\" alt=\"Open In Colab\"/></a>"
      ]
    },
    {
      "cell_type": "markdown",
      "source": [
        "# beecrowd | 1015 | Distance Between Two Points"
      ],
      "metadata": {
        "id": "BC1OqdFSm5XX"
      }
    },
    {
      "cell_type": "markdown",
      "source": [
        "Read the four values corresponding to the x and y axes of two points in the plane, p1 (x1, y1) and p2 (x2, y2) and calculate the distance between them, showing four decimal places after the comma, according to the formula:\n",
        "\n",
        "Distance =\n",
        "\n",
        "**Input**:\n",
        "The input file contains two lines of data. The first one contains two double values: x1 y1 and the second one also contains two double values with one digit after the decimal point: x2 y2.\n",
        "\n",
        "**Output**:\n",
        "Calculate and print the distance value using the provided formula, with 4 digits after the decimal point.\n",
        "\n",
        "**Input Sample:**\n",
        "1.0 7.0  \n",
        "5.0 9.0  \n",
        "**Output Sample:**\n",
        "4.4721  \n",
        "\n",
        "**Input Sample:**\n",
        "-2.5 0.4  \n",
        "12.1 7.3  \n",
        "**Output Sample:**\n",
        "16.1484  \n",
        "\n",
        "**Input Sample:**\n",
        "2.5 -0.4  \n",
        "-12.2 7.0  \n",
        "**Output Sample:**\n",
        "16.4575"
      ],
      "metadata": {
        "id": "pWooyjXpm-23"
      }
    },
    {
      "cell_type": "code",
      "execution_count": 29,
      "metadata": {
        "id": "OdYJya_amcP0",
        "colab": {
          "base_uri": "https://localhost:8080/"
        },
        "outputId": "775032ef-5998-453f-da8b-0af14dd351f0"
      },
      "outputs": [
        {
          "output_type": "stream",
          "name": "stdout",
          "text": [
            "2.5 -0.4\n",
            "-12.2 7.0\n",
            "16.4575\n"
          ]
        }
      ],
      "source": [
        "import math\n",
        "x1, y1 = map(float,input().split())\n",
        "x2, y2 = map(float,input().split())\n",
        "distance = math.sqrt( pow((x2-x1),2) + pow((y2-y1),2) )\n",
        "print('{:.4f}'.format(distance))\n"
      ]
    }
  ]
}