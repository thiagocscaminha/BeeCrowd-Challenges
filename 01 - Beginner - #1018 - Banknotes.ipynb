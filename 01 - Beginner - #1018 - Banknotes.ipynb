{
  "nbformat": 4,
  "nbformat_minor": 0,
  "metadata": {
    "colab": {
      "provenance": [],
      "authorship_tag": "ABX9TyOVIgFdmepuea1sTWeVJCHz",
      "include_colab_link": true
    },
    "kernelspec": {
      "name": "python3",
      "display_name": "Python 3"
    },
    "language_info": {
      "name": "python"
    }
  },
  "cells": [
    {
      "cell_type": "markdown",
      "metadata": {
        "id": "view-in-github",
        "colab_type": "text"
      },
      "source": [
        "<a href=\"https://colab.research.google.com/github/thiagocscaminha/Python-Challenges-BeeCrowd/blob/main/01%20-%20Beginner%20-%20%231018%20-%20Banknotes.ipynb\" target=\"_parent\"><img src=\"https://colab.research.google.com/assets/colab-badge.svg\" alt=\"Open In Colab\"/></a>"
      ]
    },
    {
      "cell_type": "markdown",
      "source": [
        "# beecrowd | 1018 | Banknotes"
      ],
      "metadata": {
        "id": "BC1OqdFSm5XX"
      }
    },
    {
      "cell_type": "markdown",
      "source": [
        "In this problem you have to read an integer value and calculate the smallest possible number of banknotes in which the value may be decomposed. The possible banknotes are 100, 50, 20, 10, 5, 2 and 1. Print the read value and the list of banknotes.\n",
        "\n",
        "**Input:** The input file contains an integer value N (0 < N < 1000000).\n",
        "\n",
        "**Output:** Print the read number and the minimum quantity of each necessary banknotes in Portuguese language, as the given example. Do not forget to print the end of line after each line, otherwise you will receive “Presentation Error”.\n",
        "\n",
        "\n",
        "**Input Sample:**  \n",
        "11257  \n",
        "**Output Sample:**  \n",
        "11257  \n",
        "112 nota(s) de R$ 100,00  \n",
        "\n",
        "1 nota(s) de R$ 50,00\n",
        "\n",
        "0 nota(s) de R$ 20,00\n",
        "\n",
        "0 nota(s) de R$ 10,00  \n",
        "\n",
        "1 nota(s) de R$ 5,00  \n",
        "\n",
        "1 nota(s) de R$ 2,00  \n",
        "\n",
        "0 nota(s) de R$ 1,00  \n",
        "\n",
        "\n",
        "**Input Sample:**  \n",
        "503  \n",
        "**Output Sample:**  \n",
        "503  \n",
        "5 nota(s) de R$ 100,00  \n",
        "\n",
        "0 nota(s) de R$ 50,00  \n",
        "\n",
        "0 nota(s) de R$ 20,00  \n",
        "\n",
        "0 nota(s) de R$ 10,00  \n",
        "\n",
        "0 nota(s) de R$ 5,00  \n",
        "\n",
        "1 nota(s) de R$ 2,00  \n",
        "\n",
        "1 nota(s) de R$ 1,00  "
      ],
      "metadata": {
        "id": "pWooyjXpm-23"
      }
    },
    {
      "cell_type": "code",
      "execution_count": 4,
      "metadata": {
        "id": "OdYJya_amcP0",
        "colab": {
          "base_uri": "https://localhost:8080/"
        },
        "outputId": "9003eadf-7fc4-4df9-830e-ebb7094789fe"
      },
      "outputs": [
        {
          "output_type": "stream",
          "name": "stdout",
          "text": [
            "11257\n",
            "11257\n",
            "112 nota(s) de R$ 100,00\n",
            "1 nota(s) de R$ 50,00\n",
            "0 nota(s) de R$ 20,00\n",
            "0 nota(s) de R$ 10,00\n",
            "1 nota(s) de R$ 5,00\n",
            "1 nota(s) de R$ 2,00\n",
            "0 nota(s) de R$ 1,00\n"
          ]
        }
      ],
      "source": [
        "startmoney = int(input())\n",
        "money = startmoney\n",
        "note100 = int(money / 100)\n",
        "money = money % 100\n",
        "note50 = int(money / 50)\n",
        "money = money % 50\n",
        "note20 = int(money / 20)\n",
        "money = money % 20\n",
        "note10 = int(money / 10)\n",
        "money = money % 10\n",
        "note5 = int(money / 5)\n",
        "money = money % 5\n",
        "note2 = int(money / 2)\n",
        "money = money % 2\n",
        "note1 = int(money / 1)\n",
        "money = money % 1\n",
        "\n",
        "print('{}'.format(startmoney))\n",
        "print('{} nota(s) de R$ 100,00'.format(note100))\n",
        "print('{} nota(s) de R$ 50,00'.format(note50))\n",
        "print('{} nota(s) de R$ 20,00'.format(note20))\n",
        "print('{} nota(s) de R$ 10,00'.format(note10))\n",
        "print('{} nota(s) de R$ 5,00'.format(note5))\n",
        "print('{} nota(s) de R$ 2,00'.format(note2))\n",
        "print('{} nota(s) de R$ 1,00'.format(note1))"
      ]
    }
  ]
}