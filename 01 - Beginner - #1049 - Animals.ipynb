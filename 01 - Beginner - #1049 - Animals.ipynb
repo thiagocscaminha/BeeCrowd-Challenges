{
  "nbformat": 4,
  "nbformat_minor": 0,
  "metadata": {
    "colab": {
      "provenance": [],
      "authorship_tag": "ABX9TyPx0ULc8tZxV/YO8tjHe4au",
      "include_colab_link": true
    },
    "kernelspec": {
      "name": "python3",
      "display_name": "Python 3"
    },
    "language_info": {
      "name": "python"
    }
  },
  "cells": [
    {
      "cell_type": "markdown",
      "metadata": {
        "id": "view-in-github",
        "colab_type": "text"
      },
      "source": [
        "<a href=\"https://colab.research.google.com/github/thiagocscaminha/Python-Challenges-BeeCrowd/blob/main/01%20-%20Beginner%20-%20%231049%20-%20Animals.ipynb\" target=\"_parent\"><img src=\"https://colab.research.google.com/assets/colab-badge.svg\" alt=\"Open In Colab\"/></a>"
      ]
    },
    {
      "cell_type": "markdown",
      "source": [
        "# beecrowd | 1049 | Animal"
      ],
      "metadata": {
        "id": "LR4iU0DruvQN"
      }
    },
    {
      "cell_type": "markdown",
      "source": [
        "In this problem, your job is to read three Portuguese words. These words define an animal according to the table below, from left to right. After, print the chosen animal defined by these three words.\n",
        "\n",
        "![](https://resources.beecrowd.com/gallery/images/problems/UOJ_1049_b.png)\n",
        "\n",
        "**Input:** The input contains 3 words, one by line, that will be used to identify the animal, according to the above table, with all letters in lowercase.  \n",
        "**Output:** Print the animal name according to the given input.\n",
        "\n",
        "**Input Samples:**  \n",
        "vertebrado  \n",
        "mamifero  \n",
        "onivoro  \n",
        "**Output Samples**  \n",
        "homem  \n",
        "\n",
        "**Input Samples:**  \n",
        "vertebrado  \n",
        "ave  \n",
        "carnivoro  \n",
        "**Output Samples**  \n",
        "aguia  \n",
        "\n",
        "**Input Samples:**  \n",
        "invertebrado  \n",
        "anelideo  \n",
        "onivoro  \n",
        "**Output Samples**  \n",
        "minhoca\n",
        "\n"
      ],
      "metadata": {
        "id": "lu8t5eSvuv4s"
      }
    },
    {
      "cell_type": "code",
      "source": [
        "word01 = input().strip()\n",
        "word02 = input().strip()\n",
        "word03 = input().strip()\n",
        "\n",
        "if word01 == 'vertebrado':\n",
        "    if word02 == 'ave':\n",
        "        if word03 == 'carnivoro':\n",
        "            print('aguia')\n",
        "        elif word03 == 'onivoro':\n",
        "            print('pomba')\n",
        "    elif word02 == 'mamifero':\n",
        "        if word03 == 'onivoro':\n",
        "            print('homem')\n",
        "        elif word03 == 'herbivoro':\n",
        "            print('vaca')\n",
        "\n",
        "elif word01 == 'invertebrado':\n",
        "    if word02 == 'inseto':\n",
        "        if word03 == 'hematofago':\n",
        "            print('pulga')\n",
        "        elif word03 == 'herbivoro':\n",
        "            print('lagarta')\n",
        "    elif word02 == 'anelideo':\n",
        "        if word03 == 'hematofago':\n",
        "            print('sanguessuga')\n",
        "        elif word03 == 'onivoro':\n",
        "            print('minhoca')"
      ],
      "metadata": {
        "colab": {
          "base_uri": "https://localhost:8080/"
        },
        "id": "w8Fir1tJvq42",
        "outputId": "b06c0b06-f584-4906-b56a-9a575dd69d7f"
      },
      "execution_count": 12,
      "outputs": [
        {
          "output_type": "stream",
          "name": "stdout",
          "text": [
            "invertebrado\n",
            "anelideo\n",
            "onivoro\n",
            "minhoca\n"
          ]
        }
      ]
    }
  ]
}