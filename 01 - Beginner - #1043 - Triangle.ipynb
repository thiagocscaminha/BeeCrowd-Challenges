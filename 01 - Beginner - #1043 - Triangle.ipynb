{
  "nbformat": 4,
  "nbformat_minor": 0,
  "metadata": {
    "colab": {
      "provenance": [],
      "authorship_tag": "ABX9TyP2oIyftxQWzc04nUihieH6",
      "include_colab_link": true
    },
    "kernelspec": {
      "name": "python3",
      "display_name": "Python 3"
    },
    "language_info": {
      "name": "python"
    }
  },
  "cells": [
    {
      "cell_type": "markdown",
      "metadata": {
        "id": "view-in-github",
        "colab_type": "text"
      },
      "source": [
        "<a href=\"https://colab.research.google.com/github/thiagocscaminha/Python-Challenges-BeeCrowd/blob/main/01%20-%20Beginner%20-%20%231043%20-%20Triangle.ipynb\" target=\"_parent\"><img src=\"https://colab.research.google.com/assets/colab-badge.svg\" alt=\"Open In Colab\"/></a>"
      ]
    },
    {
      "cell_type": "markdown",
      "source": [
        "# beecrowd | 1043 | Triangle #"
      ],
      "metadata": {
        "id": "qGG3eo2YTczH"
      }
    },
    {
      "cell_type": "markdown",
      "source": [
        "Read three point floating values (A, B and C) and verify if is possible to make a triangle with them. If it is possible, calculate the perimeter of the triangle and print the message:\n",
        "\n",
        "Perimetro = XX.X\n",
        "\n",
        "If it is not possible, calculate the area of the trapezium which basis A and B and C as height, and print the message:\n",
        "\n",
        "Area = XX.X\n",
        "\n",
        "**Input:** The input file has tree floating point numbers.\n",
        "\n",
        "**Output:** Print the result with one digit after the decimal point.\n",
        "\n",
        "**Input Sample:**\n",
        "6.0 4.0 2.0  \n",
        "**Output Sample:**\n",
        "Area = 10.0\n",
        "\n",
        "**Input Sample:**\n",
        "6.0 4.0 2.1  \n",
        "**Output Sample:**\n",
        "Perimetro = 12.1"
      ],
      "metadata": {
        "id": "41eK5O2ZTggK"
      }
    },
    {
      "cell_type": "markdown",
      "source": [
        "OBS1: desigualdade triangular para verificar se é possível formar um triângulo: (A + B > C) and (A + C > B) and (B + C > A)\n",
        "OBS2: Fórmula da área do trapézio: (B + b) * h / 2"
      ],
      "metadata": {
        "id": "m48jw6cxfsLi"
      }
    },
    {
      "cell_type": "code",
      "execution_count": 6,
      "metadata": {
        "colab": {
          "base_uri": "https://localhost:8080/"
        },
        "id": "DshzJf6dTS_U",
        "outputId": "d17879ea-ec97-4593-8cf8-8bacfe220b92"
      },
      "outputs": [
        {
          "output_type": "stream",
          "name": "stdout",
          "text": [
            "6.0 4.0 2.1\n",
            "Perimetro = 12.1\n"
          ]
        }
      ],
      "source": [
        "A, B, C = map(float,input().split())\n",
        "if (A + B > C) and (A + C > B) and (B + C > A):\n",
        "  perimetro = A + B + C\n",
        "  print('Perimetro = {:.1f}'.format(perimetro))\n",
        "else:\n",
        "  area = ((A + B) * C) / 2\n",
        "  print('Area = {:.1f}'.format(area))\n"
      ]
    },
    {
      "cell_type": "markdown",
      "source": [
        "código com função:"
      ],
      "metadata": {
        "id": "D0gSOYUYgGC5"
      }
    },
    {
      "cell_type": "code",
      "execution_count": 9,
      "metadata": {
        "colab": {
          "base_uri": "https://localhost:8080/"
        },
        "outputId": "5a9ba95a-38af-43fb-ca80-07d862cdba79",
        "id": "xVjPGd7PfMwV"
      },
      "outputs": [
        {
          "output_type": "stream",
          "name": "stdout",
          "text": [
            " 6.0 4.0 2.1\n",
            "Perimetro = 12.1\n"
          ]
        }
      ],
      "source": [
        "def triang (A, B, C):\n",
        "  if (A + B > C) and (A + C > B) and (B + C > A):\n",
        "    perimetro = A + B + C\n",
        "    print('Perimetro = {:.1f}'.format(perimetro))\n",
        "  else:\n",
        "    area = ((A + B) * C) / 2\n",
        "    print('Area = {:.1f}'.format(area))\n",
        "\n",
        "A, B, C = map(float,input().split())\n",
        "triang(A, B, C)\n"
      ]
    }
  ]
}