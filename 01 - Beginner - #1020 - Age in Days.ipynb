{
  "nbformat": 4,
  "nbformat_minor": 0,
  "metadata": {
    "colab": {
      "provenance": [],
      "authorship_tag": "ABX9TyOOrVIi5hOR0qhTqETJZKhq",
      "include_colab_link": true
    },
    "kernelspec": {
      "name": "python3",
      "display_name": "Python 3"
    },
    "language_info": {
      "name": "python"
    }
  },
  "cells": [
    {
      "cell_type": "markdown",
      "metadata": {
        "id": "view-in-github",
        "colab_type": "text"
      },
      "source": [
        "<a href=\"https://colab.research.google.com/github/thiagocscaminha/Python-Challenges-BeeCrowd/blob/main/01%20-%20Beginner%20-%20%231020%20-%20Age%20in%20Days.ipynb\" target=\"_parent\"><img src=\"https://colab.research.google.com/assets/colab-badge.svg\" alt=\"Open In Colab\"/></a>"
      ]
    },
    {
      "cell_type": "markdown",
      "source": [
        "# beecrowd | 1020 | Age in Days"
      ],
      "metadata": {
        "id": "BC1OqdFSm5XX"
      }
    },
    {
      "cell_type": "markdown",
      "source": [
        "Read an integer value corresponding to a person's age (in days) and print it in years, months and days, followed by its respective message “ano(s)”, “mes(es)”, “dia(s)”.\n",
        "\n",
        "Note: only to facilitate the calculation, consider the whole year with 365 days and 30 days every month. In the cases of test there will never be a situation that allows 12 months and some days, like 360, 363 or 364. This is just an exercise for the purpose of testing simple mathematical reasoning.\n",
        "\n",
        "**Input:** The input file contains 1 integer value.\n",
        "\n",
        "**Output:** Print the output, like the following example.\n",
        "\n",
        "**Input Sample:**\t400\n",
        "**Output Sample:**  \n",
        "1 ano(s)  \n",
        "1 mes(es)  \n",
        "5 dia(s)\n",
        "\n",
        "**Input Sample:**\t800  \n",
        "**Output Sample:**  \n",
        "2 ano(s)  \n",
        "2 mes(es)  \n",
        "10 dia(s)\n",
        "\n",
        "**Input Sample:**\t30  \n",
        "**Output Sample:**  \n",
        "0 ano(s)  \n",
        "1 mes(es)  \n",
        "0 dia(s)  "
      ],
      "metadata": {
        "id": "pWooyjXpm-23"
      }
    },
    {
      "cell_type": "code",
      "execution_count": 23,
      "metadata": {
        "id": "OdYJya_amcP0",
        "colab": {
          "base_uri": "https://localhost:8080/"
        },
        "outputId": "b833c304-ecf2-4dfc-fa98-52e8bafc00ac"
      },
      "outputs": [
        {
          "output_type": "stream",
          "name": "stdout",
          "text": [
            "30\n",
            "0\n",
            "1\n",
            "0\n"
          ]
        }
      ],
      "source": [
        "age_days = int(input())\n",
        "\n",
        "years = int(age_days / 365)\n",
        "age_days = int(age_days % 365)\n",
        "months = int(age_days / 30)\n",
        "days = int(age_days % 30)\n",
        "\n",
        "print('{} ano(s)'.format(years))\n",
        "print('{} mes(es)'.format(months))\n",
        "print('{} dia(s)'.format(days))"
      ]
    }
  ]
}