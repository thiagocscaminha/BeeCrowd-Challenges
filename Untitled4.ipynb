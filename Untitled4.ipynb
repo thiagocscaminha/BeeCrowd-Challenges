{
  "nbformat": 4,
  "nbformat_minor": 0,
  "metadata": {
    "colab": {
      "provenance": [],
      "authorship_tag": "ABX9TyMo+gtx0yoAQ0DFjeuZT++h",
      "include_colab_link": true
    },
    "kernelspec": {
      "name": "python3",
      "display_name": "Python 3"
    },
    "language_info": {
      "name": "python"
    }
  },
  "cells": [
    {
      "cell_type": "markdown",
      "metadata": {
        "id": "view-in-github",
        "colab_type": "text"
      },
      "source": [
        "<a href=\"https://colab.research.google.com/github/thiagocscaminha/BeeCrowd-Challenges/blob/main/Untitled4.ipynb\" target=\"_parent\"><img src=\"https://colab.research.google.com/assets/colab-badge.svg\" alt=\"Open In Colab\"/></a>"
      ]
    },
    {
      "cell_type": "markdown",
      "source": [
        "# beecrowd | 1003 | Simple Sum"
      ],
      "metadata": {
        "id": "BC1OqdFSm5XX"
      }
    },
    {
      "cell_type": "markdown",
      "source": [
        "Read two integer values, in this case, the variables A and B. After this, calculate the sum between them and assign it to the variable SOMA. Write the value of this variable.\n",
        "\n",
        "**Input:** The input file contains 2 integer numbers.\n",
        "\n",
        "**Output:** Print the message \"SOMA\" with all the capital letters, with a blank space before and after the equal signal followed by the corresponding value to the sum of A and B. Like all the problems, don't forget to print the end of line, otherwise you will receive \"Presentation Error\""
      ],
      "metadata": {
        "id": "pWooyjXpm-23"
      }
    },
    {
      "cell_type": "code",
      "execution_count": 1,
      "metadata": {
        "id": "OdYJya_amcP0",
        "colab": {
          "base_uri": "https://localhost:8080/"
        },
        "outputId": "9311ad31-fa9d-402e-e706-fc081ee7719d"
      },
      "outputs": [
        {
          "output_type": "stream",
          "name": "stdout",
          "text": [
            "5\n",
            "9\n",
            "SOMA = 14\n"
          ]
        }
      ],
      "source": [
        "A = int(input())\n",
        "B = int(input())\n",
        "SOMA = A + B\n",
        "print('SOMA =',SOMA)"
      ]
    }
  ]
}